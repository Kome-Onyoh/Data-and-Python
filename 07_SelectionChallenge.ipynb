{
  "nbformat": 4,
  "nbformat_minor": 0,
  "metadata": {
    "colab": {
      "provenance": [],
      "include_colab_link": true
    },
    "kernelspec": {
      "name": "python3",
      "display_name": "Python 3"
    }
  },
  "cells": [
    {
      "cell_type": "markdown",
      "metadata": {
        "id": "view-in-github",
        "colab_type": "text"
      },
      "source": [
        "<a href=\"https://colab.research.google.com/github/Kome-Onyoh/Data-and-Python/blob/main/07_SelectionChallenge.ipynb\" target=\"_parent\"><img src=\"https://colab.research.google.com/assets/colab-badge.svg\" alt=\"Open In Colab\"/></a>"
      ]
    },
    {
      "cell_type": "markdown",
      "metadata": {
        "id": "-QxAKPD8DZfj"
      },
      "source": [
        "# Three selection challenges\n",
        "\n",
        "---\n"
      ]
    },
    {
      "cell_type": "markdown",
      "metadata": {
        "id": "2KYUALILDcM9"
      },
      "source": [
        "### Challenge 1 - password format  \n",
        "\n",
        "Write a function called **check_password_valid()** which will check the validity of a **password** input by a user.\n",
        "\n",
        "Rules for a valid password are:  \n",
        "\n",
        "*  At least 1 letter between [a-z] and 1 letter between [A-Z].\n",
        "*  At least 1 number between [0-9].\n",
        "*  At least 1 character from [$#@].\n",
        "*  Minimum length 6 characters.\n",
        "*  Maximum length 16 characters.  \n",
        "\n",
        "Let the user know if the `password` they have typed is valid and, if not, where was the first error.\n",
        "\n",
        "*Hint:  to test if a set of characters is present in a password String, you can use re.search('[character set]', `password`)*  \n",
        "\n",
        "Example:   \n",
        "*if re.search('[a-z]',`password`):*    \n",
        "if there is at least 1 character a-z in the password, re.search will not be None.\n",
        "\n",
        "**re** is a pre-written Python function for pattern searching in Strings.  It has been imported for you in the code cell below.  "
      ]
    },
    {
      "cell_type": "code",
      "metadata": {
        "id": "8wBK9IA4BO2e",
        "colab": {
          "base_uri": "https://localhost:8080/"
        },
        "outputId": "24eb3c76-715f-4d6d-c2f0-ead65ad78015"
      },
      "source": [
        "import re\n",
        "\n",
        "# add your check_PasswordValid() function and call below here\n",
        "\n",
        "def check_password_valid():\n",
        "  password = input(\"Enter your password: \")\n",
        "  if not re.search(\"[a-z]\", password):\n",
        "    return \"Password must contain at least one lowercase letter.\"\n",
        "  if not re.search(\"[A-Z]\", password):\n",
        "    return \"Password must contain at least one uppercase letter. \"\n",
        "  if not re.search(\"[0-9]\", password):\n",
        "    return \"Password must contain at least one number.\"\n",
        "  if not re.search(\"[$#@]\", password):\n",
        "    return \"Password must contain at least one special character.\"\n",
        "  if len(password) < 6:\n",
        "    return \"Password must be at least 6 characters long.\"\n",
        "  if len(password) > 16:\n",
        "    return \"Password must be at most 16 characters long.\"\n",
        "  else:\n",
        "    return \"Valid Password\"\n",
        "\n",
        "message = check_password_valid()\n",
        "print(message)"
      ],
      "execution_count": 30,
      "outputs": [
        {
          "output_type": "stream",
          "name": "stdout",
          "text": [
            "Enter your password: FutureCoders1#\n",
            "Valid Password\n"
          ]
        }
      ]
    },
    {
      "cell_type": "markdown",
      "metadata": {
        "id": "f0R4GYTEFQS-"
      },
      "source": [
        "---\n",
        "### Challenge 2 - triangle shape  \n",
        "\n",
        "Write a function called **evaluate_triangle_shape()** which will check if a triangle is equilateral, isosceles or scalene, based on the three side lengths entered by a user (**x**, **y** and **z**.\n",
        "\n",
        "An equilateral triangle is a triangle in which all three sides are equal.\n",
        "A scalene triangle is a triangle that has three unequal sides.\n",
        "An isosceles triangle is a triangle with (at least) two equal sides.\n",
        "\n",
        "For example:  \n",
        "A triange with side lengths                                 \n",
        "x: 6                                                                    \n",
        "y: 8                                                                    \n",
        "z: 12                                                                   \n",
        "is a *Scalene triangle*\n",
        "\n",
        "A triangle with side lengths\n",
        "x:5  \n",
        "y:3   \n",
        "z:5  \n",
        "is an *Isosceles triangle*"
      ]
    },
    {
      "cell_type": "code",
      "metadata": {
        "id": "oBgl4ro1DVL0",
        "colab": {
          "base_uri": "https://localhost:8080/"
        },
        "outputId": "7b4892f0-d313-4690-b0d6-f27e3f15d90f"
      },
      "source": [
        "def evaluate_traingle_shape():\n",
        "  x = int(input(\"Enter the length of side x: \"))\n",
        "  y = int(input(\"Enter the length of side y: \"))\n",
        "  z = int(input(\"Enter the length of side z: \"))\n",
        "\n",
        "  if x == y == z:\n",
        "    print(\"This is an Equilateral triangle\")\n",
        "  elif x == y or x == z or y == z:\n",
        "    print(\"This is an Isosceles triangle\")\n",
        "  else:\n",
        "    print(\"This is a Scalene triangle\")\n",
        "\n",
        "evaluate_traingle_shape()"
      ],
      "execution_count": 4,
      "outputs": [
        {
          "output_type": "stream",
          "name": "stdout",
          "text": [
            "Enter the length of side x: 6\n",
            "Enter the length of side y: 8\n",
            "Enter the length of side z: 12\n",
            "This is a Scalene triangle\n"
          ]
        }
      ]
    },
    {
      "cell_type": "markdown",
      "metadata": {
        "id": "hr2EotkqG33l"
      },
      "source": [
        "---\n",
        "### Challenge 3 - which season\n",
        "\n",
        "Write a function called **determine_season()** which will ask the user to enter two integers representing a **month** and **day** and prints the season for that month and day.\n",
        "\n",
        "Note:  for this exercise the season dates are:\n",
        "*  Winter December 21 to March 20    \n",
        "*  Spring March 21 to June 20  \n",
        "*  Summer June 21 to September 20  \n",
        "*  Autumn September 21 to December 20\n",
        "\n",
        "Test input:  \n",
        "Input the month (e.g. January, February etc.): 7                     \n",
        "Input the day: 31                                                       \n",
        "\n",
        "Expected output:  \n",
        "Season is summer\n",
        "\n",
        "*Note: this will require multiple and or or operators and you should use brackets to help Python know which operations to do first*  \n",
        "\n",
        "*For an extra challenge you can check that the day is valid for the month*"
      ]
    },
    {
      "cell_type": "code",
      "metadata": {
        "id": "cvbfz8nzG4IL",
        "colab": {
          "base_uri": "https://localhost:8080/"
        },
        "outputId": "35626dbb-db4f-4c79-eea5-0aa9b41b043a"
      },
      "source": [
        "def determine_season():\n",
        "  month = int(input(\"Enter a number representing a month of the year: \"))\n",
        "  day = int(input(\"Enter a number representing a day of the month: \"))\n",
        "\n",
        "  if month in [1, 2] or (month == 12 and day > 20) or (month == 3 and day < 21):\n",
        "    season = \"Winter\"\n",
        "  elif month in [3, 4] or (month == 3 and day > 20) or (month == 6 and day < 21):\n",
        "    season = \"Spring\"\n",
        "  elif month in [7, 8] or (month == 6 and day > 20) or (month == 9 and day < 21):\n",
        "    season = \"Summer\"\n",
        "  elif month in [10, 11] or (month == 9 and day > 20) or (month == 12 and day < 21):\n",
        "    season = \"Autumn\"\n",
        "\n",
        "  print(season)\n",
        "\n",
        "determine_season()"
      ],
      "execution_count": 12,
      "outputs": [
        {
          "output_type": "stream",
          "name": "stdout",
          "text": [
            "Enter a number representing a month of the year: 9\n",
            "Enter a number representing a day of the month: 22\n",
            "Autumn\n"
          ]
        }
      ]
    }
  ]
}