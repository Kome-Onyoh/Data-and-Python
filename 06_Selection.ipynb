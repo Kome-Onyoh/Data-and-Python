{
  "nbformat": 4,
  "nbformat_minor": 0,
  "metadata": {
    "colab": {
      "provenance": [],
      "include_colab_link": true
    },
    "kernelspec": {
      "name": "python3",
      "display_name": "Python 3"
    }
  },
  "cells": [
    {
      "cell_type": "markdown",
      "metadata": {
        "id": "view-in-github",
        "colab_type": "text"
      },
      "source": [
        "<a href=\"https://colab.research.google.com/github/Kome-Onyoh/Data-and-Python/blob/main/06_Selection.ipynb\" target=\"_parent\"><img src=\"https://colab.research.google.com/assets/colab-badge.svg\" alt=\"Open In Colab\"/></a>"
      ]
    },
    {
      "cell_type": "markdown",
      "metadata": {
        "id": "GhX3Slbcp0ZV"
      },
      "source": [
        "## Selection (if...elif...else)\n",
        "\n",
        "---\n"
      ]
    },
    {
      "cell_type": "markdown",
      "metadata": {
        "id": "8hOKtaP7p8Nj"
      },
      "source": [
        "A key part of problem solving is decision making.  Decisions are based on data and have a set of outcomes depending on that data.\n",
        "\n",
        "A program is a sequence of instructions to be followed by the computer, to solve a particular problem.    \n",
        "\n",
        "It is not always useful for programs to do the exact same thing every time, in exactly the same way.  \n",
        "\n",
        "Say we have a program that will tell someone if they are too young to drive a car. We don't want it to tell them this if they are over 17. So we use an if statement to say: if the user's age is less than 17, tell them they are too young to drive a car.\n",
        "\n",
        "Run the code in the cell below to see if it works for the years 2006 and 2000"
      ]
    },
    {
      "cell_type": "code",
      "metadata": {
        "id": "kVSTvk8ZtJkG",
        "outputId": "8b4edc8c-36bf-4b1c-a7a6-e6df212c292a",
        "colab": {
          "base_uri": "https://localhost:8080/"
        }
      },
      "source": [
        "from datetime import datetime\n",
        "\n",
        "# determine if user is old enough to drive\n",
        "def drive_age():\n",
        "    birth_year = int(input(\"What year were you born?\"))\n",
        "    current_year = datetime.now().year\n",
        "    age = current_year - birth_year\n",
        "    if age < 17:\n",
        "        print(\"You are too young to drive a car\")\n",
        "\n",
        "drive_age()"
      ],
      "execution_count": null,
      "outputs": [
        {
          "output_type": "stream",
          "name": "stdout",
          "text": [
            "What year were you born?2009\n",
            "You are too young to drive a car\n"
          ]
        }
      ]
    },
    {
      "cell_type": "markdown",
      "metadata": {
        "id": "ZRdkf0RTtjCE"
      },
      "source": [
        "---\n",
        "## Using else    \n",
        "\n",
        "So the program tells someone if they are too young to drive but if they are old enough it doesn't do anything. We need to give it an alternative action.  \n",
        "\n",
        "Run the code in the cell below to see if it works for the years 2006 and 2000  "
      ]
    },
    {
      "cell_type": "code",
      "metadata": {
        "id": "2kWB9YtbuB5G",
        "outputId": "890b3ad5-032c-4e36-bdcc-de5ad86867db",
        "colab": {
          "base_uri": "https://localhost:8080/"
        }
      },
      "source": [
        "from datetime import datetime\n",
        "\n",
        "# determine if user is old enough to drive or not\n",
        "def drive_age():\n",
        "    birth_year = int(input(\"What year were you born?\"))\n",
        "    current_year = datetime.now().year\n",
        "    age = current_year - birth_year\n",
        "    if age < 17:\n",
        "        print(\"You are too young to drive a car\")\n",
        "    else:\n",
        "        print(\"You are old enough to drive a car\")\n",
        "\n",
        "drive_age()"
      ],
      "execution_count": null,
      "outputs": [
        {
          "output_type": "stream",
          "name": "stdout",
          "text": [
            "What year were you born?1999\n",
            "You are old enough to drive a car\n"
          ]
        }
      ]
    },
    {
      "cell_type": "markdown",
      "metadata": {
        "id": "5_czxkMEuIBk"
      },
      "source": [
        "So an if statement is written like this:  \n",
        "\n",
        "```\n",
        "if A CONDITION IS TRUE :  \n",
        "  DO SOMETHING  \n",
        "else:  \n",
        "  DO SOMETHING ELSE\n",
        "```\n",
        "\n",
        "\n",
        "Important things to know:  \n",
        "\n",
        "A CONDITION can be *True* or *False* either because it is a boolean variable (storing the value True or False) or because it is using some form of comparison or logical operator:\n",
        "\n",
        "age < 17\n",
        "This is *True* if the value of **age** is less than 17 and *False* if the value of age is 17 or above\n",
        "\n",
        "name == \"Bill\"\n",
        "This is *True* if the value of the variable **name** is \"Bill\" and *False* if the value is any other name\n",
        "\n",
        "height >= 150\n",
        "This is *True* if the value of **height** is greater than, or equal to, 150 and *False* if the value is less than 150\n",
        "\n",
        "### What if there is more than one option?\n",
        "If you ask someone their age, then there may be a number of different things you can print depending on what it is:  \n",
        "\n",
        "Run the code in the cell below, try some different ages to get different results.    "
      ]
    },
    {
      "cell_type": "code",
      "metadata": {
        "id": "cKKbVayNvKU_",
        "outputId": "29f0f360-1b91-44be-944d-01c1fc07dbf7",
        "colab": {
          "base_uri": "https://localhost:8080/"
        }
      },
      "source": [
        "def age_to_drive():\n",
        "    age = int(input(\"Please enter your age\"))\n",
        "    if age >= 17:\n",
        "        print(\"You are old enough to drive\")\n",
        "    elif age >= 13:\n",
        "        print(\"You are too young to drive but you are old enough to have a social media account\")\n",
        "    else:\n",
        "        print(\"You are too young to drive and to have a social media account\")\n",
        "\n",
        "age_to_drive()"
      ],
      "execution_count": null,
      "outputs": [
        {
          "output_type": "stream",
          "name": "stdout",
          "text": [
            "Please enter your age10\n",
            "You are too young to drive and to have a social media account\n"
          ]
        }
      ]
    },
    {
      "cell_type": "markdown",
      "metadata": {
        "id": "t8-NQ7QevL3z"
      },
      "source": [
        "Here's another example, try this one out:    \n",
        "*  ask the user to enter their **name**.    \n",
        "*  if their `name` is Bill then print \"Where is Ben?\"  \n",
        "*  if their `name` is Ben print \"Where is Bill?\"  \n",
        "*  otherwise print \"Where are Bill and Ben?\"  "
      ]
    },
    {
      "cell_type": "code",
      "metadata": {
        "id": "lY9VVvQQvuM9",
        "outputId": "6c6e5b75-7b75-488a-b5fc-2dd9faf30f18",
        "colab": {
          "base_uri": "https://localhost:8080/"
        }
      },
      "source": [
        "def bill_or_ben():\n",
        "    name = input(\"What is your name?\")\n",
        "    if name == \"Bill\":\n",
        "      print(\"Where is Ben?\")\n",
        "    elif name == \"Ben\":\n",
        "      print(\"Where is Bill?\")\n",
        "    else:\n",
        "      print(\"Where are Bill and Ben?\")\n",
        "\n",
        "bill_or_ben()"
      ],
      "execution_count": null,
      "outputs": [
        {
          "output_type": "stream",
          "name": "stdout",
          "text": [
            "What is your name?Kome\n",
            "Where are Bill and Ben?\n"
          ]
        }
      ]
    },
    {
      "cell_type": "markdown",
      "metadata": {
        "id": "-ouEfBiaqKc7"
      },
      "source": [
        "---\n",
        "### Exercise 1  - if and else\n",
        "\n",
        "Write a function called **find_greater()** which will:\n",
        "\n",
        "*  ask the user for 2 numbers (**num1** and **num2**)  \n",
        "*  use an if statement that compares the two numbers and prints the one that is the greater of the two.  "
      ]
    },
    {
      "cell_type": "code",
      "metadata": {
        "id": "BIhqeCOHpzOS",
        "outputId": "e8ff8c6d-32f4-4f24-8898-751c6f695ae5",
        "colab": {
          "base_uri": "https://localhost:8080/"
        }
      },
      "source": [
        "def find_greater():\n",
        "  num1 = int(input(\"Enter a number: \"))\n",
        "  num2 = int(input(\"Enter a second number: \"))\n",
        "  if num1 > num2:\n",
        "    print(f\"{num1} is greater than {num2}\")\n",
        "  else:\n",
        "    print(f\"{num2} is greater than {num1}\")\n",
        "\n",
        "find_greater()"
      ],
      "execution_count": null,
      "outputs": [
        {
          "output_type": "stream",
          "name": "stdout",
          "text": [
            "Enter a number: 20\n",
            "Enter a second number: 25\n",
            "25 is greater than 20\n"
          ]
        }
      ]
    },
    {
      "cell_type": "markdown",
      "metadata": {
        "id": "vkKL17eFy_R-"
      },
      "source": [
        "---\n",
        "### Exercise 2 -\n",
        "\n",
        "Write a function called **guess_number(random_number)** which will use the generated **random_number**, between 1 and 100, provided in the brackets (called a parameter):  \n",
        "\n",
        "*  ask the user to **guess** the `random_number`  \n",
        "*  if the `guess` is greater than the `random_number` print \"Too high\"  \n",
        "*  else if the `guess` is less than the `random_number` print \"Too low\"  \n"
      ]
    },
    {
      "cell_type": "code",
      "metadata": {
        "id": "hmKpcdRv0UOd",
        "outputId": "27c880cd-b693-4259-cbcd-17e8776a7050",
        "colab": {
          "base_uri": "https://localhost:8080/"
        }
      },
      "source": [
        "from random import randint\n",
        "\n",
        "def guess_number(random_number):\n",
        "  # add your code below here\n",
        "  guess = int(input(\"Guess the random number: \"))\n",
        "  if guess > random_number:\n",
        "    print(\"Too high\")\n",
        "  else:\n",
        "    print(\"Too low\")\n",
        "\n",
        "guess_number(randint(1,100))"
      ],
      "execution_count": null,
      "outputs": [
        {
          "output_type": "stream",
          "name": "stdout",
          "text": [
            "Guess the random number: 50\n",
            "Too low\n"
          ]
        }
      ]
    },
    {
      "cell_type": "markdown",
      "metadata": {
        "id": "70COtAzd0UcZ"
      },
      "source": [
        "---\n",
        "### Exercise 3 - AM or PM\n",
        "\n",
        "Write a function called **is_afternoon()** which will:\n",
        "\n",
        "*  ask the user to enter the **time** in 24 hour clock format (e.g. 1759)  \n",
        "*  use floor division (by 100) to calculate the **hour**  \n",
        "*  use modulus (100) to calculate the **minutes**  \n",
        "*  if the **hour** is 12 or greater, assign \"PM\" to a variable called **am_pm** AND subtract 12 from `hour` and store the result back in `hour`  \n",
        "*  else assign \"AM\" to the `am_pm` variable   \n",
        "*  assign the value str(`hour`) + \":\" + str(`minutes`) + `am_pm` to a new variable called **text_time**  \n",
        "*  print the message \"The time is\", `text_time`    \n",
        "\n",
        "Test input:  \n",
        "1759  \n",
        "\n",
        "Expected output:  \n",
        "The time is 5:59PM  \n",
        "\n",
        "Test input:  \n",
        "1132  \n",
        "\n",
        "Expected output:  \n",
        "The time is 11:32AM"
      ]
    },
    {
      "cell_type": "code",
      "metadata": {
        "id": "FCVRtwjd2ZnH",
        "outputId": "6b44c70b-1f69-4320-e95c-b9992af1203d",
        "colab": {
          "base_uri": "https://localhost:8080/"
        }
      },
      "source": [
        "def is_afternoon():\n",
        "  time = int(input(\"Enter a time in 24 hour clock format: \"))\n",
        "  hour = time // 100\n",
        "  minutes = time % 100\n",
        "  if hour >= 12:\n",
        "    am_pm = \"PM\"\n",
        "    hour -= 12\n",
        "  else:\n",
        "    am_pm = \"AM\"\n",
        "  text_time = str(hour) + \":\" + str(minutes) + am_pm\n",
        "  print(text_time)\n",
        "\n",
        "is_afternoon()"
      ],
      "execution_count": null,
      "outputs": [
        {
          "output_type": "stream",
          "name": "stdout",
          "text": [
            "Enter a time in 24 hour clock format: 1132\n",
            "11:32AM\n"
          ]
        }
      ]
    },
    {
      "cell_type": "markdown",
      "metadata": {
        "id": "pMnxknLW3XlM"
      },
      "source": [
        "---\n",
        "### Exercise 4 - Getting a number within limits\n",
        "\n",
        "Write a function called **validate()** which will:\n",
        "\n",
        "*  ask the user to enter a **number** between 1 and 100  \n",
        "*  if the `number` is less than 1 or more than 100, print the error message \"Number out of limits\"  \n",
        "*  else print \"Your number was\" followed by the `number`\n",
        "\n",
        "Test input:  \n",
        "50  \n",
        "\n",
        "Expected output:  \n",
        "Your number was 50  \n",
        "\n",
        "Test input:  \n",
        "150  \n",
        "\n",
        "Expected output:  \n",
        "Number out of limits"
      ]
    },
    {
      "cell_type": "code",
      "metadata": {
        "id": "cO7r4kYY3_aA",
        "outputId": "dab4bca3-5964-474c-92d9-714ebec8a077",
        "colab": {
          "base_uri": "https://localhost:8080/"
        }
      },
      "source": [
        "def validate():\n",
        "  number = int(input(\"Enter a number between 1 and 100: \"))\n",
        "  if number < 1 or number > 100:\n",
        "    print(\"Number out of limits\")\n",
        "  else:\n",
        "    print(f\"Your number was {number}\")\n",
        "\n",
        "validate()"
      ],
      "execution_count": null,
      "outputs": [
        {
          "output_type": "stream",
          "name": "stdout",
          "text": [
            "Enter a number between 1 and 100: -1\n",
            "Number out of limits\n"
          ]
        }
      ]
    },
    {
      "cell_type": "markdown",
      "metadata": {
        "id": "NVecdtXu4AsM"
      },
      "source": [
        "---\n",
        "### Exercise 5 - getting a menu choice  \n",
        "\n",
        "Write a function called **process_menu()** which will:\n",
        "\n",
        "*  print the following menu:  \n",
        "\n",
        "What value would you like to see?  \n",
        "\n",
        "1. Pi  \n",
        "2. Plank’s constant  \n",
        "3. E  \n",
        "4. Square root of 2  \n",
        "\n",
        "*  ask the user to choose a **menu_option**  \n",
        "*  if the `menu_option` chosen is not between 1 and 4, print \"Invalid choice\"  \n",
        "*  else print the number of the `menu_option` chosen\n",
        "\n",
        "Test input:  \n",
        "2  \n",
        "\n",
        "Expected output:  \n",
        "2  \n",
        "\n",
        "Test input:  \n",
        "5  \n",
        "\n",
        "Expected output:  \n",
        "Invalid choice"
      ]
    },
    {
      "cell_type": "code",
      "metadata": {
        "id": "OXRoUAE15Oqq",
        "outputId": "62ec919a-aa9b-4b44-9b58-05c702fae618",
        "colab": {
          "base_uri": "https://localhost:8080/"
        }
      },
      "source": [
        "def process_menu():\n",
        "  print(\"\"\"\n",
        "  What value would you like to see?\n",
        "\n",
        "  1. Pi\n",
        "  2. Plank’s constant\n",
        "  3. E\n",
        "  4. Square root of 2\n",
        "  \"\"\")\n",
        "\n",
        "  menu_option = int(input(\"Choose a menu option: \"))\n",
        "  if menu_option < 1 or menu_option > 4:\n",
        "    print(\"Invalid choice\")\n",
        "  else:\n",
        "    print(menu_option)\n",
        "\n",
        "process_menu()"
      ],
      "execution_count": null,
      "outputs": [
        {
          "output_type": "stream",
          "name": "stdout",
          "text": [
            "\n",
            "  What value would you like to see?\n",
            "\n",
            "  1. Pi\n",
            "  2. Plank’s constant\n",
            "  3. E\n",
            "  4. Square root of 2\n",
            "  \n",
            "Choose a menu option: 5\n",
            "Invalid choice\n"
          ]
        }
      ]
    },
    {
      "cell_type": "markdown",
      "metadata": {
        "id": "XLDdZqZd5O1s"
      },
      "source": [
        "---\n",
        "### Exercise 6 - acting on menu choice  \n",
        "\n",
        "Write a function called **process_menu_options()** which will:  \n",
        "\n",
        "*  print the following menu:  \n",
        "\n",
        "What value would you like to see?  \n",
        "\n",
        "1. Pi  \n",
        "2. Plank’s constant  \n",
        "3. E  \n",
        "4. Square root of 2  \n",
        "\n",
        "*  ask the user to choose a **menu_option**  \n",
        "*  if the `menu_option` is 1 print 3.14159265359  \n",
        "*  otherwise (*elif*) the `menu_option` is 2 print 6.62607004 × 10-34 (in Python this would be written 6.62607004E-34  \n",
        "*  otherwise if the `menu_option` is 3 - print 2.71828  \n",
        "*  otherwise if the `menu_option` is 4 - print 1.414  \n",
        "*  otherwise if the `menu_option` is anything *else* - print \"Invalid choice\"  \n",
        "\n",
        "Test input:  \n",
        "1  \n",
        "\n",
        "Expected output:  \n",
        "3.14159265359\n",
        "\n",
        "Test input:  \n",
        "4  \n",
        "\n",
        "Expected output:  \n",
        "1.414  \n",
        "\n",
        "Test input:  \n",
        "9  \n",
        "\n",
        "Expected output:  \n",
        "Invalid choice\n"
      ]
    },
    {
      "cell_type": "code",
      "source": [
        "def process_menu_options():\n",
        "  print(\"\"\"\n",
        "  What value would you like to see?\n",
        "\n",
        "  1. Pi\n",
        "  2. Plank’s constant\n",
        "  3. E\n",
        "  4. Square root of 2\n",
        "  \"\"\")\n",
        "\n",
        "  menu_option = int(input(\"Choose a menu option: \"))\n",
        "  if menu_option == 1:\n",
        "    print(3.14159265359)\n",
        "  elif menu_option == 2:\n",
        "    print(6.62607004E-34)\n",
        "  elif menu_option == 3:\n",
        "    print(2.71828)\n",
        "  elif menu_option == 4:\n",
        "    print(1.414)\n",
        "  else:\n",
        "    print(\"Invalid choice\")\n",
        "\n",
        "process_menu_options()"
      ],
      "metadata": {
        "id": "NMlw1iDJinZp",
        "outputId": "a8a04969-6158-4009-8f28-1a3ae7b4f594",
        "colab": {
          "base_uri": "https://localhost:8080/"
        }
      },
      "execution_count": null,
      "outputs": [
        {
          "output_type": "stream",
          "name": "stdout",
          "text": [
            "\n",
            "  What value would you like to see?\n",
            "\n",
            "  1. Pi\n",
            "  2. Plank’s constant\n",
            "  3. E\n",
            "  4. Square root of 2\n",
            "  \n",
            "Choose a menu option: 9\n",
            "Invalid choice\n"
          ]
        }
      ]
    },
    {
      "cell_type": "markdown",
      "metadata": {
        "id": "R_42ktqd6m-O"
      },
      "source": [
        "---\n",
        "### Exercise 7 - positive or negative\n",
        "\n",
        "Write a function called **report_pos_or_neg()** which will:  \n",
        "\n",
        "*  ask a user to input a **number**  \n",
        "*  if the `number` is greater than 0, print `number` \"is a positive number\"\n",
        "*  otherwise if it is less than 0 print `number` \"is a negative number  \n",
        "*  otherwise print `number` \"is neither positive or negative\"\n",
        "\n",
        "Test Inputs:  \n",
        "0  \n",
        "50  \n",
        "-50\n",
        "\n",
        "Expected outputs:\n",
        "0 is neither positive or negative  \n",
        "50 is a positive number  \n",
        "-50 is a negative number  "
      ]
    },
    {
      "cell_type": "code",
      "metadata": {
        "id": "g2V-Ft_S8W6u",
        "outputId": "6edc8f4b-1ae1-4ecd-d2ef-8b13dee31301",
        "colab": {
          "base_uri": "https://localhost:8080/"
        }
      },
      "source": [
        "def report_pos_or_neg():\n",
        "  number = int(input(\"Enter a number: \"))\n",
        "  if number > 0:\n",
        "    print(f\"{number} is a positive number\")\n",
        "  elif number < 0:\n",
        "    print(f\"{number} is a negative number\")\n",
        "  else:\n",
        "    print(f\"{number} is neither positive or negative\")\n",
        "\n",
        "report_pos_or_neg()"
      ],
      "execution_count": null,
      "outputs": [
        {
          "output_type": "stream",
          "name": "stdout",
          "text": [
            "Enter a number: -50\n",
            "-50 is a negative number\n"
          ]
        }
      ]
    },
    {
      "cell_type": "markdown",
      "metadata": {
        "id": "xypYjlmR8XgM"
      },
      "source": [
        "---\n",
        "### Exercise 8 - traffic light actions  \n",
        "\n",
        "Write a function called **act_on_light()** which will:\n",
        "\n",
        "*  ask the user to enter a traffic light **colour**  \n",
        "*  if the `colour` is \"red\" print the message \"Stop the car\"  \n",
        "*  otherwise if the `colour` is \"amber\" print the message \"Be ready to stop\"  \n",
        "*  otherwise if the `colour` is \"green\" print the message \"Continue forward\"  \n",
        "*  otherwise if the `colour` is \"red and amber\" print the message \"Get ready to go\"  \n",
        "*  otherwise print \"That is not a traffic light colour\"  \n",
        "\n",
        "Test inputs:  \n",
        "red  \n",
        "amber  \n",
        "red and amber  \n",
        "blue    \n",
        "\n",
        "Expected output:  \n",
        "Stop the car  \n",
        "Be ready to stop  \n",
        "Get ready to go  \n",
        "That is not a traffic light colour  "
      ]
    },
    {
      "cell_type": "code",
      "metadata": {
        "id": "8UDIQJpa-SUx",
        "outputId": "57221671-e19f-4b9a-e1bd-1e51de38784d",
        "colab": {
          "base_uri": "https://localhost:8080/"
        }
      },
      "source": [
        "def act_on_light():\n",
        "  colour = input(\"Enter a colour of the traffic light: \")\n",
        "  if colour == \"red\":\n",
        "    print(\"Stop the car\")\n",
        "  elif colour == \"amber\":\n",
        "    print(\"Be ready to stop\")\n",
        "  elif colour == \"green\":\n",
        "    print(\"Continue forward\")\n",
        "  elif colour == \"red and amber\":\n",
        "    print(\"Get ready to go\")\n",
        "  else:\n",
        "    print(\"That is not a traffic light colour\")\n",
        "\n",
        "act_on_light()"
      ],
      "execution_count": null,
      "outputs": [
        {
          "output_type": "stream",
          "name": "stdout",
          "text": [
            "Enter a colour of the traffic light: blue\n",
            "That is not a traffic light colour\n"
          ]
        }
      ]
    },
    {
      "cell_type": "markdown",
      "metadata": {
        "id": "rB4N8OaU-Sls"
      },
      "source": [
        "---\n",
        "### Exercise 9 - dealing with capitals\n",
        "\n",
        "Write a function called **check_capital()** which will:\n",
        "\n",
        "*  ask the user what is the **capital** city of Scotland  \n",
        "*  If they answer correctly (Edinburgh), tell them that they are correct, Edinburgh is the capital city. If they enter anything else, tell them \"No, Edinburgh is the capital city\"\n",
        "\n",
        "Test Inputs:  \n",
        "London  \n",
        "Edinburgh  \n",
        "edinburgh\n",
        "\n",
        "Expected output:\n",
        "No, Edinburgh is the capital city  \n",
        "You are correct, Edinburgh is the capital city  \n",
        "No, Edinburgh is the capital city  \n",
        "\n",
        "*(think about why it is likely that the output here is incorrect, and change the code to make it work)*"
      ]
    },
    {
      "cell_type": "code",
      "metadata": {
        "id": "MK3hL3Do_mOe",
        "outputId": "1619a54a-18f6-423f-d0dc-0a15176becee",
        "colab": {
          "base_uri": "https://localhost:8080/"
        }
      },
      "source": [
        "def check_capital():\n",
        "  capital = input(\"What is the capital of Scotland? \")\n",
        "  if capital == \"Edinburgh\":\n",
        "    print(\"You are correct, Edinburgh is the capital city.\")\n",
        "  else:\n",
        "    print(\"No, Edinburgh is the capital city\")\n",
        "\n",
        "check_capital()"
      ],
      "execution_count": null,
      "outputs": [
        {
          "output_type": "stream",
          "name": "stdout",
          "text": [
            "What is the capital of Scotland? edinburgh\n",
            "No, Edinburgh is the capital city\n"
          ]
        }
      ]
    },
    {
      "cell_type": "code",
      "source": [
        "def check_capital():\n",
        "  capital = input(\"What is the capital of Scotland? \")\n",
        "  expected_answer = \"Edinburgh\", \"edinburgh\"\n",
        "\n",
        "  if capital in expected_answer:\n",
        "    print(\"You are correct, Edinburgh is the capital city.\")\n",
        "  else:\n",
        "    print(\"No, Edinburgh is the capital city\")\n",
        "\n",
        "check_capital()"
      ],
      "metadata": {
        "id": "07DAQRNCvvSb",
        "outputId": "3dd09bf6-054d-4d27-8533-fe3232a37a00",
        "colab": {
          "base_uri": "https://localhost:8080/"
        }
      },
      "execution_count": null,
      "outputs": [
        {
          "output_type": "stream",
          "name": "stdout",
          "text": [
            "What is the capital of Scotland? edinburgh\n",
            "You are correct, Edinburgh is the capital city.\n"
          ]
        }
      ]
    },
    {
      "cell_type": "code",
      "source": [
        "def check_capital():\n",
        "  capital = input(\"What is the capital of Scotland? \")\n",
        "  capital = capital.upper()\n",
        "  expected_answer = \"Edinburgh\"\n",
        "\n",
        "  if capital == expected_answer.upper():\n",
        "    print(\"You are correct, Edinburgh is the capital city.\")\n",
        "  else:\n",
        "    print(\"No, Edinburgh is the capital city\")\n",
        "\n",
        "check_capital()"
      ],
      "metadata": {
        "id": "Xy0J6Bf1s05r",
        "outputId": "d584028e-5f3e-4f5d-b2c7-4e5439043ef1",
        "colab": {
          "base_uri": "https://localhost:8080/"
        }
      },
      "execution_count": null,
      "outputs": [
        {
          "output_type": "stream",
          "name": "stdout",
          "text": [
            "What is the capital of Scotland? eDINburgh\n",
            "You are correct, Edinburgh is the capital city.\n"
          ]
        }
      ]
    },
    {
      "cell_type": "markdown",
      "metadata": {
        "id": "pouR5V6b_mYV"
      },
      "source": [
        "---\n",
        "### Exercise 10 - calculator\n",
        "\n",
        "Write a function called **calculate()** which will:\n",
        "\n",
        "*  asks the user for 2 numbers (**num1** and **num2**) and an **operator** (+, -, /, *)\n",
        "\n",
        "Use *if* statements to allow the user to perform calculations on these 2 numbers and provide the answer in a print statement.\n",
        "\n",
        "Test Inputs:  \n",
        "num1 = 2, num2 = 3, operator = +  \n",
        "num1 = 2, num2 = 3, operator = -  \n",
        "num1 = 2, num2 = 3, operator = *  \n",
        "num1 = 2, num2 = 3, operator = /  \n",
        "\n",
        "Expected output:  \n",
        "Your answer is 5  \n",
        "Your answer is -1  \n",
        "Your answer is 6  \n",
        "Your answer is 0.6666666666  "
      ]
    },
    {
      "cell_type": "code",
      "metadata": {
        "id": "Q7I1hiAj5AhE",
        "outputId": "8eede5d6-c68a-42be-9775-4ac31238d5e0",
        "colab": {
          "base_uri": "https://localhost:8080/"
        }
      },
      "source": [
        "from ast import Num\n",
        "\n",
        "def calculate():\n",
        "  num1 = int(input(\"Enter a number: \"))\n",
        "  num2 = int(input(\"Enter a second number: \"))\n",
        "  operator = input(\"Enter an operator (+, -, /, *): \")\n",
        "\n",
        "  if operator == \"+\":\n",
        "    print(f\"Your answer is {num1 + num2}\")\n",
        "  elif operator == \"-\":\n",
        "    print(f\"Your answer is {num1 - num2}\")\n",
        "  elif operator == \"*\":\n",
        "    print(f\"Your answer is {num1 * num2}\")\n",
        "  elif operator == \"/\":\n",
        "    print(f\"Your answer is {num1 / num2}\")\n",
        "\n",
        "calculate()"
      ],
      "execution_count": null,
      "outputs": [
        {
          "output_type": "stream",
          "name": "stdout",
          "text": [
            "Enter a number: 2\n",
            "Enter a second number: 3\n",
            "Enter an operator (+, -, /, *): /\n",
            "Your answer is 0.6666666666666666\n"
          ]
        }
      ]
    }
  ]
}