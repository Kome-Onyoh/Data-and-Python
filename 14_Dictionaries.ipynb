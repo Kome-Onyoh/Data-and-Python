{
  "nbformat": 4,
  "nbformat_minor": 0,
  "metadata": {
    "colab": {
      "provenance": [],
      "include_colab_link": true
    },
    "kernelspec": {
      "name": "python3",
      "display_name": "Python 3"
    },
    "language_info": {
      "name": "python"
    }
  },
  "cells": [
    {
      "cell_type": "markdown",
      "metadata": {
        "id": "view-in-github",
        "colab_type": "text"
      },
      "source": [
        "<a href=\"https://colab.research.google.com/github/Kome-Onyoh/Data-and-Python/blob/main/14_Dictionaries.ipynb\" target=\"_parent\"><img src=\"https://colab.research.google.com/assets/colab-badge.svg\" alt=\"Open In Colab\"/></a>"
      ]
    },
    {
      "cell_type": "markdown",
      "metadata": {
        "id": "AiiF1h2X4PHP"
      },
      "source": [
        "# Dictionaries\n",
        "\n",
        "---\n",
        "\n",
        "A **dictionary** is a collection of dissimilar data stored together in one *record*. Each item of data has a  (or key) that describes its paired value.  \n",
        "\n",
        "Create a dictionary object by declaring the set of keys and values, e.g.:\n",
        "\n",
        "```\n",
        "   transport = {\n",
        "       \"type\":\"bus\",\n",
        "       \"numPassengers\":72,\n",
        "       \"colour\":\"blue\",\n",
        "       \"fuel\":\"diesel\"\n",
        "   }\n",
        "```\n",
        "\n",
        "To access a value in a dictionary, use its key:  \n",
        "\n",
        "```\n",
        "transport[\"type\"] = \"coach\"\n",
        "transport_type = transport[\"type\"]\n",
        "transport_colour = transport[\"colour\"]\n",
        "transport[\"fuel\"] = petrol\n",
        "```\n",
        "\n",
        "To add a new key/value pair to a dictionary, simply assign a value to a new key:  \n",
        "```\n",
        "transport[\"seats\"] = 54\n",
        "```\n",
        "\n",
        "The transport dictionary will now look like this:  \n",
        "```\n",
        "   transport = {\n",
        "       \"type\":\"bus\",\n",
        "       \"numPassengers\":72,\n",
        "       \"colour\":\"blue\",\n",
        "       \"fuel\":\"diesel\",\n",
        "       \"seats\":54\n",
        "   }\n",
        "```\n",
        "\n"
      ]
    },
    {
      "cell_type": "markdown",
      "metadata": {
        "id": "1uZ5kNWB6CqK"
      },
      "source": [
        "---\n",
        "### Exercise 1 - print dictionary\n",
        "\n",
        "Write a function which will:  \n",
        "\n",
        "*  create an empty dictionary for a person (name, age and postcode, with values \"\", 0 and \"\")\n",
        "*  ask the user for name, age and postcode and assign the values to the correct keys in the dictionary  \n",
        "*  print the dictionary\n",
        "\n",
        "Test input:  \n",
        "Jack Jones  \n",
        "16  \n",
        "AB5 3DF  \n",
        "\n",
        "Expected output:  \n",
        "```{'name':'Jack Jones', 'age':16, 'postcode':'AB5 3DF'}```"
      ]
    },
    {
      "cell_type": "code",
      "metadata": {
        "id": "Ac7VQTj94Mrc",
        "colab": {
          "base_uri": "https://localhost:8080/"
        },
        "outputId": "702d5f4a-aeaf-4c5a-992f-3a2c31099b4c"
      },
      "source": [
        "def print_dictionary():\n",
        "  person = {\n",
        "      \"name\" : \"\",\n",
        "      \"age\" : 0,\n",
        "      \"postcode\" : \"\"\n",
        "  }\n",
        "\n",
        "  person[\"name\"] = input(\"Enter your name: \")\n",
        "  person[\"age\"] = input(\"Enter your age: \")\n",
        "  person[\"postcode\"] = input(\"Enter your postcode: \")\n",
        "\n",
        "  print(person)\n",
        "\n",
        "print_dictionary()"
      ],
      "execution_count": 3,
      "outputs": [
        {
          "output_type": "stream",
          "name": "stdout",
          "text": [
            "Enter your name: Jack Jonas\n",
            "Enter your age: 16\n",
            "Enter your postcode: AB5 3DF\n",
            "{'name': 'Jack Jonas', 'age': '16', 'postcode': 'AB5 3DF'}\n"
          ]
        }
      ]
    },
    {
      "cell_type": "markdown",
      "metadata": {
        "id": "0OtNqNKv7WKm"
      },
      "source": [
        "---\n",
        "### Exercise 2 - create a dictionary\n",
        "\n",
        "Write a function that will create two dictionaries,without values:  \n",
        "\n",
        "1.  person (with keys firstname, surname, birthdate, postcode)  \n",
        "2.  car (with key/value pairs as follows:  make - Vauxhall, model - Corsa, engineSize - 1199, fuelType - unleaded, num_doors - 4)  \n",
        "\n",
        "*   ask the user to enter the values for the person dictionary  \n",
        "*   print, on one line, the person's name from the person dictionary and the make of the car from the car dictionary.\n",
        "\n",
        "Test input:  \n",
        "Jack  \n",
        "Jones  \n",
        "2005/02/02    \n",
        "AB5 3DF  \n",
        "\n",
        "Expected output:  \n",
        "Jack Jones Vauxhall"
      ]
    },
    {
      "cell_type": "code",
      "metadata": {
        "id": "ZyqhaBCC-GdI",
        "colab": {
          "base_uri": "https://localhost:8080/"
        },
        "outputId": "41bbfe5a-6019-4c1c-fa70-fcda6698f17a"
      },
      "source": [
        "def create_dictionary():\n",
        "  person = {\n",
        "      \"firstname\" : \"\",\n",
        "      \"surname\" : \"\",\n",
        "      \"birthdate\" : \"\",\n",
        "      \"postcode\" : \"\"\n",
        "  }\n",
        "\n",
        "  car = {\n",
        "      \"make\" : \"Vauxhall\",\n",
        "      \"model\" : \"Corsa\",\n",
        "      \"engineSize\" : 1199,\n",
        "      \"fuelType\" : \"unleaded\",\n",
        "      \"num_doors\" : 4\n",
        "  }\n",
        "\n",
        "  person[\"firstname\"] = input(\"Enter your firstname: \")\n",
        "  person[\"surname\"] = input(\"Enter your surname: \")\n",
        "  person[\"birthdate\"] = input(\"Enter your birthdate (YY/MM/DD): \")\n",
        "  person[\"postcode\"] = input(\"Enter your postcode: \")\n",
        "\n",
        "  print(person[\"firstname\"], person[\"surname\"], car[\"make\"])\n",
        "\n",
        "create_dictionary()"
      ],
      "execution_count": 6,
      "outputs": [
        {
          "output_type": "stream",
          "name": "stdout",
          "text": [
            "Enter your firstname: Jack\n",
            "Enter your surname: Jonas\n",
            "Enter your birthdate (YY/MM/DD): 2005/02/02\n",
            "Enter your postcode: AB5 3DF\n",
            "Jack Jonas Vauxhall\n"
          ]
        }
      ]
    },
    {
      "cell_type": "markdown",
      "metadata": {
        "id": "gYuuOUYw-G4I"
      },
      "source": [
        "---\n",
        "### Exercise 3 - check dictionary values\n",
        "\n",
        "Write a new function which will:\n",
        "\n",
        "*  set up the same two dictionaries as in Exercise 2  \n",
        "*  ask the user to enter the details to complete the person record  \n",
        "*  calculate the person's age  \n",
        "*  if the person is under 17 then print a message to say that they can't buy a car as they are too young to drive\n",
        "*  else if the person is under 25 then print a message to say that an engine size under 1200 is recommended  \n",
        "*  ask the user to enter the make of car that the person is looking for  \n",
        "*  if the user enters the same make as that stored in the car record, then print a message to say that you have one car of that make in stock and print all the details of the car that you have the record for\n",
        "*  else (if the user enters any other car make) then print a message to say sorry that you don't have any cars of that make in stock\n",
        "*  print a message to say that the user can get more details for stockist in the <user's postcode> area if they call 01234567890\n",
        "*  print a message to say \"Thank you <user's name> for using our site\"  \n",
        "\n",
        "Test input:  \n",
        "Jack  \n",
        "Jones  \n",
        "2005/02/02  \n",
        "AB5 3DF  \n",
        "Vauxhall  \n",
        "\n",
        "Expected output:  \n",
        "You are too young to drive\n",
        "\n",
        "Test input:  \n",
        "John  \n",
        "Jones  \n",
        "2003/02/02  \n",
        "AB5 3DF  \n",
        "Vauxhall\n",
        "\n",
        "Expected output:  \n",
        "An engine size under 1200 is recommended  \n",
        "We have one Vauxhall in stock, details:  \n",
        "Make - Vauxhall    \n",
        "Model - Corsa    \n",
        "Engine size - 1199  \n",
        "Fuel type - unleaded   \n",
        "Number of doors - 4  \n",
        "You can get more details of stockists near AB5 3DF on 01234567890  \n",
        "Thank you John Jones for using our site.     \n",
        "\n",
        "Test input:  \n",
        "John  \n",
        "Jones  \n",
        "2003/02/02  \n",
        "AB5 3DF  \n",
        "Ford  \n",
        "\n",
        "Expected output:  \n",
        "An engine size under 1200 is recommended  \n",
        "Sorry, we don't have any of that make in stock  \n"
      ]
    },
    {
      "cell_type": "code",
      "metadata": {
        "id": "Wp9Il2JG_hDh",
        "colab": {
          "base_uri": "https://localhost:8080/"
        },
        "outputId": "79935b31-8949-4b62-f776-39c4358cb537"
      },
      "source": [
        "def check_dictionary_values():\n",
        "  person = {\n",
        "      \"firstname\" : \"\",\n",
        "      \"surname\" : \"\",\n",
        "      \"birthdate\" : \"\",\n",
        "      \"postcode\" : \"\"\n",
        "  }\n",
        "\n",
        "  car = {\n",
        "      \"make\" : \"Vauxhall\",\n",
        "      \"model\" : \"Corsa\",\n",
        "      \"engineSize\" : 1199,\n",
        "      \"fuelType\" : \"unleaded\",\n",
        "      \"num_doors\" : 4\n",
        "  }\n",
        "\n",
        "  person[\"firstname\"] = input(\"Enter your firstname: \")\n",
        "  person[\"surname\"] = input(\"Enter your surname: \")\n",
        "  person[\"birthdate\"] = input(\"Enter your birthdate (YY/MM/DD): \")\n",
        "  person[\"postcode\"] = input(\"Enter your postcode: \")\n",
        "\n",
        "  birth_year = int(person['birthdate'][:4])\n",
        "  current_year = 2024\n",
        "  age = current_year - birth_year\n",
        "\n",
        "  if age < 17:\n",
        "    print(\"You are too young to drive\")\n",
        "    return\n",
        "\n",
        "  if age < 25 and car['engineSize'] < 1200:\n",
        "    print(\"An engine size under 1200 is recommended\")\n",
        "\n",
        "  make = input(\"Enter the make of car you are looking for: \")\n",
        "\n",
        "  if make.lower() == car['make'].lower():\n",
        "    print(f\"We have one {car['make']} in stock, details:\")\n",
        "    print(f\"Make - {car['make']}\")\n",
        "    print(f\"Model - {car['model']}\")\n",
        "    print(f\"Engine size - {car['engineSize']}\")\n",
        "    print(f\"Fuel type - {car['fuelType']}\")\n",
        "    print(f\"Number of doors - {car['num_doors']}\")\n",
        "    print(f\"You can get more details of stockists near {person['postcode']} on 01234567890\")\n",
        "  else:\n",
        "    print(f\"Sorry, we don't have any {make} in stock\")\n",
        "\n",
        "  print(f\"Thank you {person['firstname']} {person['surname']} for using our site.\")\n",
        "\n",
        "check_dictionary_values()\n",
        ""
      ],
      "execution_count": 9,
      "outputs": [
        {
          "output_type": "stream",
          "name": "stdout",
          "text": [
            "Enter your firstname: Jack\n",
            "Enter your surname: Jones\n",
            "Enter your birthdate (YY/MM/DD): 2005/02/02\n",
            "Enter your postcode: AB5 3DF\n",
            "An engine size under 1200 is recommended\n",
            "Enter the make of car you are looking for: Vauxhall\n",
            "We have one Vauxhall in stock, details:\n",
            "Make - Vauxhall\n",
            "Model - Corsa\n",
            "Engine size - 1199\n",
            "Fuel type - unleaded\n",
            "Number of doors - 4\n",
            "You can get more details of stockists near AB5 3DF on 01234567890\n",
            "Thank you Jack Jones for using our site.\n"
          ]
        }
      ]
    },
    {
      "cell_type": "markdown",
      "metadata": {
        "id": "I6dUiRwn7Gkg"
      },
      "source": [
        "---\n",
        "### Exercise 4 - print keys and values\n",
        "\n",
        "Two dictionaries have been created below.  You can print a list of the dictionary's keys using `dictionary_name.keys()` and the values using `dictionary_name.values()`\n",
        "\n",
        "Write a function which will accept a dictionary as a parameter and will:  \n",
        "*  print the dictionary keys as a list   \n",
        "*  print the dictionary values as a list  \n",
        "\n",
        "*Hint*:  you will need to cast the keys as a list (`list(dictionary_name.keys()`)  and do the same for the values.\n",
        "\n",
        "**Expected Output**\n",
        "\n",
        "Input: English  \n",
        "Output:\n",
        "['Andy', 'Angela']  \n",
        "[95, 53]  \n",
        "\n",
        "Input: Maths  \n",
        "Output:  \n",
        "['Andy', 'Angela']  \n",
        "[58, 72]\n",
        "\n",
        "\n",
        "\n"
      ]
    },
    {
      "cell_type": "code",
      "metadata": {
        "id": "FApOckhJEsMs",
        "colab": {
          "base_uri": "https://localhost:8080/"
        },
        "outputId": "2ab30ac2-68e9-4fd7-c40b-bac0cace04b4"
      },
      "source": [
        "def display_dictionary(scores):\n",
        "  #  add your code below this line\n",
        "\n",
        "  print(list(scores.keys()))\n",
        "\n",
        "  print(list(scores.values()))\n",
        "\n",
        "english_scores = {'Andy': 95, 'Angela': 53}\n",
        "maths_scores = {'Andy': 58, 'Angela': 72}\n",
        "display_dictionary(english_scores)\n",
        "display_dictionary(maths_scores)"
      ],
      "execution_count": 12,
      "outputs": [
        {
          "output_type": "stream",
          "name": "stdout",
          "text": [
            "['Andy', 'Angela']\n",
            "[95, 53]\n",
            "['Andy', 'Angela']\n",
            "[58, 72]\n"
          ]
        }
      ]
    },
    {
      "cell_type": "markdown",
      "metadata": {
        "id": "segSpkmBFSJl"
      },
      "source": [
        "---\n",
        "### Exercise 5 - add field\n",
        "\n",
        "Write a function which will:\n",
        "\n",
        "*  create a new dictionary called **science_scores** with values of 0 for both Andy and Angela\n",
        "*  update Andy's score for science to 73 and Angela's score to 73   \n",
        "*  create a new key/value pair by adding another learner to the `science_scores`  dictionary (George has a score of 55)    \n",
        "*  print the `science_scores` dictionary to check results  \n",
        "\n",
        "Expected Output\n",
        "\n",
        "{'Andy': 73, 'Angela': 73, 'George': 55}"
      ]
    },
    {
      "cell_type": "code",
      "metadata": {
        "id": "BL1JM-Z7Gttf",
        "colab": {
          "base_uri": "https://localhost:8080/"
        },
        "outputId": "ad42905b-86b2-4117-bfa5-50b37f4a4b4f"
      },
      "source": [
        "def add_science_scores():\n",
        "  science_scores = {\"Andy\" : 0, \"Angela\" : 0}\n",
        "\n",
        "  science_scores[\"Andy\"] = 73\n",
        "  science_scores[\"Angela\"] = 73\n",
        "\n",
        "  science_scores[\"George\"] = 55\n",
        "\n",
        "  print(science_scores)\n",
        "\n",
        "add_science_scores()"
      ],
      "execution_count": 16,
      "outputs": [
        {
          "output_type": "stream",
          "name": "stdout",
          "text": [
            "{'Andy': 73, 'Angela': 73, 'George': 55}\n"
          ]
        }
      ]
    },
    {
      "cell_type": "markdown",
      "metadata": {
        "id": "_Vzv0zlHGt-C"
      },
      "source": [
        "---\n",
        "### Exercise 6 - loop through keys/value pairs\n",
        "\n",
        "Write a function which will use a *for* loop to print the each key/value pair in the science dictionary (recreate this dictionary in this function)\n",
        "\n",
        "*(Hint: you can iterate through the key/value pairs in the dictionary in the same way as you iterate through a loop (e.g. for record in dictionary) and print the record (which is the key) and its value)*\n",
        "\n",
        "Expected output:  \n",
        "\n",
        "Angela 72  \n",
        "Andy 72  \n",
        "George 55  "
      ]
    },
    {
      "cell_type": "code",
      "metadata": {
        "id": "JL40_-W-Hxnt",
        "colab": {
          "base_uri": "https://localhost:8080/"
        },
        "outputId": "dd19d692-6d07-47ee-ff2c-0c8f7a9b8328"
      },
      "source": [
        "def print_science_scores():\n",
        "\n",
        "  science_scores = {'Angela': 72, 'Andy': 72, 'George': 55}\n",
        "\n",
        "  for learner, record in science_scores.items():\n",
        "    print(learner, record)\n",
        "\n",
        "print_science_scores()"
      ],
      "execution_count": 21,
      "outputs": [
        {
          "output_type": "stream",
          "name": "stdout",
          "text": [
            "Angela 72\n",
            "Andy 72\n",
            "George 55\n"
          ]
        }
      ]
    },
    {
      "cell_type": "markdown",
      "metadata": {
        "id": "G9wamxzRJdrE"
      },
      "source": [
        "---\n",
        "### Exercise 7 - generate new dictionary  \n",
        "\n",
        "Write a functions which will:\n",
        "*  create a new dictionary where the keys are numbers between 1 and 15 (both included) and the values are square of keys\n",
        "*  print the dictionary\n",
        "\n",
        "Expected output:  \n",
        "{1: 1, 2: 4, 3: 9, 4: 16, 5: 25, 6: 36, 7: 49, 8: 64, 9: 81, 10: 100, 11: 121, 12: 144, 13: 169, 14: 196, 15: 225}"
      ]
    },
    {
      "cell_type": "code",
      "metadata": {
        "id": "1-LI-LVrJ--N",
        "colab": {
          "base_uri": "https://localhost:8080/"
        },
        "outputId": "62867141-1543-42c3-8b9d-09666a2a8f72"
      },
      "source": [
        "def generate_new_dict():\n",
        "  square_dict = {num : num ** 2 for num in range(1, 16)}\n",
        "  print(square_dict)\n",
        "\n",
        "generate_new_dict()"
      ],
      "execution_count": 23,
      "outputs": [
        {
          "output_type": "stream",
          "name": "stdout",
          "text": [
            "{1: 1, 2: 4, 3: 9, 4: 16, 5: 25, 6: 36, 7: 49, 8: 64, 9: 81, 10: 100, 11: 121, 12: 144, 13: 169, 14: 196, 15: 225}\n"
          ]
        }
      ]
    },
    {
      "cell_type": "markdown",
      "metadata": {
        "id": "t0y4mefwJ_jQ"
      },
      "source": [
        "---\n",
        "### Exercise 8 - colour dictionary  \n",
        "\n",
        "Write a function which will:  \n",
        "*  create a new dictionary record called colour_codes with the values 'red' - '#FF0000', 'green' - '#008000', 'black' - '#000000', 'white' - '#FFFFFF'\n",
        "*  add a new colour code:  'blue' - '#0000FF'    \n",
        "*  remove the colours black and white from the dictionary  \n",
        "\n",
        "*Hint:  there is a list of methods [here](https://www.w3schools.com/python/python_ref_dictionary.asp)*  "
      ]
    },
    {
      "cell_type": "code",
      "metadata": {
        "id": "yod1mUNOMeWg",
        "colab": {
          "base_uri": "https://localhost:8080/"
        },
        "outputId": "da444781-dda2-4fbd-9571-33093fcf5db9"
      },
      "source": [
        "def colour_dictionary():\n",
        "  colour_codes = {\"red\" : \"#FF0000\", \"green\" : \"#008000\", \"black\" : \"#000000\", \"white\" : \"#FFFFFF\"}\n",
        "\n",
        "  colour_codes[\"blue\"] = \"#0000FF\"\n",
        "\n",
        "  colour_codes.pop(\"black\")\n",
        "  colour_codes.pop(\"white\")\n",
        "\n",
        "  print(colour_codes)\n",
        "\n",
        "colour_dictionary()"
      ],
      "execution_count": 26,
      "outputs": [
        {
          "output_type": "stream",
          "name": "stdout",
          "text": [
            "{'red': '#FF0000', 'green': '#008000', 'blue': '#0000FF'}\n"
          ]
        }
      ]
    },
    {
      "cell_type": "markdown",
      "metadata": {
        "id": "gjos_0vuMeyS"
      },
      "source": [
        "---\n",
        "### Exercise 9 - item tuples  \n",
        "\n",
        "Write a function which will:  \n",
        "*  create a new dictionary containing the colour codes for red, green, blue, black and white\n",
        "*  print the key/value pairs of a dictionary as a list of tuples  \n",
        "\n",
        "*Hint:  iterate through colours.items()*"
      ]
    },
    {
      "cell_type": "code",
      "metadata": {
        "id": "EzuMkUypOKTY",
        "colab": {
          "base_uri": "https://localhost:8080/"
        },
        "outputId": "46c6074c-8e97-42da-bc96-59ff1fbfffff"
      },
      "source": [
        "def item_tuples():\n",
        "  update_colour_codes = {\"red\" : \"#FF0000\", \"green\" : \"#008000\", \"blue\" : \"#0000FF\", \"black\" : \"#000000\", \"white\" : \"#FFFFFF\"}\n",
        "\n",
        "  print(list(update_colour_codes.items()))\n",
        "\n",
        "item_tuples()"
      ],
      "execution_count": 27,
      "outputs": [
        {
          "output_type": "stream",
          "name": "stdout",
          "text": [
            "[('red', '#FF0000'), ('green', '#008000'), ('blue', '#0000FF'), ('black', '#000000'), ('white', '#FFFFFF')]\n"
          ]
        }
      ]
    },
    {
      "cell_type": "markdown",
      "metadata": {
        "id": "Jw1ot10cOc6r"
      },
      "source": [
        "---\n",
        "### Exercise 10 - check if empty\n",
        "Taken from w3resouce.com  \n",
        "\n",
        "Write a function which will check if a dictionary is empty or not\n",
        "\n",
        "*Hint:  you can use bool(dictionary_name), if the dictionary is empty then bool(dictionary_name will be false)*\n",
        "\n",
        "Test 1 sample data:\n",
        "{}\n",
        "\n",
        "Expected output:\n",
        "Dictionary is empty  \n",
        "\n",
        "Test 2 sample data:  \n",
        "{\"name\":\"Groucho\", \"occupation\":\"comedian\"}\n",
        "\n",
        "Expected output:  \n",
        "Dictionary is not empty"
      ]
    },
    {
      "cell_type": "code",
      "metadata": {
        "id": "7UdM1TfwRqnt",
        "colab": {
          "base_uri": "https://localhost:8080/"
        },
        "outputId": "13b051ae-9e57-411b-ee13-69a91a7321d8"
      },
      "source": [
        "def check_empty(dictionary):\n",
        "  if not bool(dictionary):\n",
        "    print(\"Dictionary is empty\")\n",
        "  else:\n",
        "    print(\"Dictionary is not empty\")\n",
        "\n",
        "dictionary1 = {}\n",
        "check_empty(dictionary1)\n",
        "\n",
        "dictionary2 = {\"name\": \"Groucho\", \"occupation\": \"comedian\"}\n",
        "check_empty(dictionary2)\n"
      ],
      "execution_count": 36,
      "outputs": [
        {
          "output_type": "stream",
          "name": "stdout",
          "text": [
            "Dictionary is empty\n",
            "Dictionary is not empty\n"
          ]
        }
      ]
    }
  ]
}