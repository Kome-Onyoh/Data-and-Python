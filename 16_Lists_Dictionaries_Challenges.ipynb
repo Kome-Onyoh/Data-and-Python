{
  "nbformat": 4,
  "nbformat_minor": 0,
  "metadata": {
    "colab": {
      "provenance": [],
      "include_colab_link": true
    },
    "kernelspec": {
      "name": "python3",
      "display_name": "Python 3"
    },
    "language_info": {
      "name": "python"
    }
  },
  "cells": [
    {
      "cell_type": "markdown",
      "metadata": {
        "id": "view-in-github",
        "colab_type": "text"
      },
      "source": [
        "<a href=\"https://colab.research.google.com/github/Kome-Onyoh/Data-and-Python/blob/main/16_Lists_Dictionaries_Challenges.ipynb\" target=\"_parent\"><img src=\"https://colab.research.google.com/assets/colab-badge.svg\" alt=\"Open In Colab\"/></a>"
      ]
    },
    {
      "cell_type": "markdown",
      "metadata": {
        "id": "nEJLJX3J9B2k"
      },
      "source": [
        "# Some challenges to help you become more confident with using Lists, Tuples and Dictionaries\n",
        "\n",
        "---\n",
        "\n"
      ]
    },
    {
      "cell_type": "markdown",
      "metadata": {
        "id": "JvV6htgh9Nc1"
      },
      "source": [
        "### Exercise 1 - extending a list\n",
        "\n",
        "There are three ways to extend a list in Python:  \n",
        "*  use `list_name.append(item)`, `list_name.insert(item)`\n",
        "*  concatenate two lists using the + operator (e.g. new_list = list1 + list2)\n",
        "*  use `list1_name.extend(list2_name)`\n",
        "\n",
        "The last method allows us to add all the `list2` items onto `list1` and for the new, extended list to now be `list1`.  `list2` will always be added to the end of `list1`.  \n",
        "\n",
        "If the objective is to add list2 before list1 then use `list2.extend(list1)`\n",
        "\n",
        "Write a function which will:  \n",
        "*  create a list of **years** containing the years 1960, 1970, 1980, 1990, 2000  \n",
        "*  print the list of years  \n",
        "*  calculate how long ago each year was and print the year and how long ago it was (e.g. 1990 was 30 years ago)  *(Hint:  use the datetime library to get the current year)*   \n",
        "*  create a second list, **years2** containing the years 2010 and 2020, extend `years` to include these later years\n",
        "*  create a third list, **years3** containing the years 1930, 1940 and 1950 and extend the` years3` list to include all the years between 1930 and 2020\n",
        "*  print the final list\n",
        "\n",
        "Expected output:  \n",
        "[1960, 1970, 1980, 1990]  \n",
        "1960 was 61 years ago  \n",
        "1970 was 51 years ago  \n",
        "1980 was 41 years ago  \n",
        "1990 was 31 years ago  \n",
        "2000 was 21 years ago  \n",
        "[1930, 1940, 1950, 1960, 1970, 1980, 1990, 2000, 2010, 2020]"
      ]
    },
    {
      "cell_type": "code",
      "source": [
        "from datetime import datetime\n",
        "\n",
        "def calculate_years(year):\n",
        "    years = [1960, 1970, 1980, 1990, 2000]\n",
        "    print(years)\n",
        "\n",
        "    current_year = datetime.now().year\n",
        "    for year in years:\n",
        "        years_ago = current_year - year\n",
        "        print(f\"{year} was {years_ago} years ago\")\n",
        "\n",
        "    years2 = [2010, 2020]\n",
        "    years.extend(years2)\n",
        "\n",
        "    years3 = list(range(1930, 2021, 10))\n",
        "    years.extend(years3)\n",
        "\n",
        "    print(years)\n",
        "\n",
        "calculate_years(1990)\n"
      ],
      "metadata": {
        "id": "-XrgVLHAGxeQ",
        "outputId": "7b9bc411-31d3-46f8-c6cc-c2a7d81e9aeb",
        "colab": {
          "base_uri": "https://localhost:8080/"
        }
      },
      "execution_count": null,
      "outputs": [
        {
          "output_type": "stream",
          "name": "stdout",
          "text": [
            "[1960, 1970, 1980, 1990, 2000]\n",
            "1960 was 64 years ago\n",
            "1970 was 54 years ago\n",
            "1980 was 44 years ago\n",
            "1990 was 34 years ago\n",
            "2000 was 24 years ago\n",
            "[1960, 1970, 1980, 1990, 2000, 2010, 2020, 1930, 1940, 1950, 1960, 1970, 1980, 1990, 2000, 2010, 2020]\n"
          ]
        }
      ]
    },
    {
      "cell_type": "markdown",
      "metadata": {
        "id": "S5iPicFzBzOW"
      },
      "source": [
        "---\n",
        "### Exercise 2 - creating a dictionary from a tuple and three lists\n",
        "\n",
        "Write a function which will create a list of dictionary items using the values in a tuple as the dictionary keys and the values in three corresponding lists as the dictionary values.\n",
        "\n",
        "*  loop through the status items in the tuple called task_status\n",
        "*  for each status, loop through the list with the same name (*Hint:  you can use eval(status) to access the list with the matching name  e.g. for task in eval(status)* )\n",
        "*  each time round this second loop, create a dictionary object with the  key:value pair {status : task}\n",
        "*  add each new dictionary to a list called **project_board** that was created as an empty list before the loops  \n",
        "*  print the project_board list\n",
        "\n",
        "Expected output:  \n",
        "\n",
        "[{'assigned': 'task1'}, {'assigned': 'task2'}, {'assigned': 'task3'}, {'inprogress': 'task4'}, {'inprogress': 'task5'}, {'inprogress': 'task6'}, {'completed': 'task7'}, {'completed': 'task8'}, {'completed': 'task9'}]\n",
        "\n",
        "\n",
        "Copy this code into the cell below to get you started:\n",
        "```\n",
        "def create_project_board():\n",
        "  task_status = (\"assigned\", \"inprogress\", \"completed\")\n",
        "  assigned = ['task1','task2','task3']\n",
        "  inprogress = ['task4','task5','task6']\n",
        "  completed = ['task7','task8','task9']\n",
        "  #  add your code below here\n",
        "\n",
        "\n",
        "\n",
        "\n",
        "create_project_board()\n",
        "```\n"
      ]
    },
    {
      "cell_type": "code",
      "metadata": {
        "id": "KXYOSHY-C7m4",
        "outputId": "e2c5ab07-8685-4e3b-8441-b7042167b4eb",
        "colab": {
          "base_uri": "https://localhost:8080/"
        }
      },
      "source": [
        "def create_project_board():\n",
        "  task_status = (\"assigned\", \"inprogress\", \"completed\")\n",
        "  assigned = ['task1','task2','task3']\n",
        "  inprogress = ['task4','task5','task6']\n",
        "  completed = ['task7','task8','task9']\n",
        "  #  add your code below here\n",
        "\n",
        "  project_board = []\n",
        "  for status in task_status:\n",
        "    tasks = eval(status)\n",
        "    for task in tasks:\n",
        "      project_board.append({status : task})\n",
        "\n",
        "  print(project_board)\n",
        "\n",
        "create_project_board()"
      ],
      "execution_count": null,
      "outputs": [
        {
          "output_type": "stream",
          "name": "stdout",
          "text": [
            "[{'assigned': 'task1'}, {'assigned': 'task2'}, {'assigned': 'task3'}, {'inprogress': 'task4'}, {'inprogress': 'task5'}, {'inprogress': 'task6'}, {'completed': 'task7'}, {'completed': 'task8'}, {'completed': 'task9'}]\n"
          ]
        }
      ]
    },
    {
      "cell_type": "markdown",
      "metadata": {
        "id": "M1BuTu9p19Ma"
      },
      "source": [
        "---\n",
        "### Exercise 3 - names and heights\n",
        "\n",
        "Write a function which will allow a user to enter the names and heights of a set of people and add each set of information as a record (dictionary) to a list. The function will stop collecting names and heights when the user enters \"STOP\" as the name.\n",
        "\n",
        "Then, the function will:  \n",
        "\n",
        "*   produce a list of names in order of the shortest person to the tallest\n",
        "*   calculate the name of the tallest person\n",
        "*   calculate the name of the shortest person\n",
        "*   calculate the average height\n",
        "*   calculate the name of the person who is closest to the average height\n",
        "\n",
        "\n",
        "\n",
        "\n"
      ]
    },
    {
      "cell_type": "code",
      "source": [
        "def names_heights():\n",
        "    people_info = []\n",
        "\n",
        "    while True:\n",
        "        name = input(\"Enter a person's name or STOP to finish: \")\n",
        "        if name == \"STOP\":\n",
        "            break\n",
        "\n",
        "        height = float(input(\"Enter a person's height in metres: \"))\n",
        "        person = {\"name\": name, \"height\": height}\n",
        "        people_info.append(person)\n",
        "\n",
        "    people_info.sort(key=lambda x: x['height'])\n",
        "\n",
        "    # Calculate the name of the tallest person\n",
        "    tallest_person = people_info[-1]['name']\n",
        "\n",
        "    # Calculate the name of the shortest person\n",
        "    shortest_person = people_info[0]['name']\n",
        "\n",
        "    # Calculate the average height\n",
        "    total_height = sum(person['height'] for person in people_info)\n",
        "    average_height = total_height / len(people_info)\n",
        "\n",
        "    # Find the person closest to the average height\n",
        "    closest_person = min(people_info, key=lambda x: abs(x['height'] - average_height))['name']\n",
        "\n",
        "    # Print the list of names in order of shortest to tallest\n",
        "    print(\"List of names in order of shortest to tallest:\")\n",
        "    for person in people_info:\n",
        "        print(person['name'])\n",
        "\n",
        "    # Print the calculated results\n",
        "    print(f\"Tallest person: {tallest_person}\")\n",
        "    print(f\"Shortest person: {shortest_person}\")\n",
        "    print(f\"Average height: {average_height}\")\n",
        "    print(f\"Person closest to the average height: {closest_person}\")\n",
        "\n",
        "names_heights()\n"
      ],
      "metadata": {
        "colab": {
          "base_uri": "https://localhost:8080/"
        },
        "id": "WXt5P6haUjVR",
        "outputId": "50d71495-aeff-4d0c-c9f8-129cc8b5ba1c"
      },
      "execution_count": 5,
      "outputs": [
        {
          "output_type": "stream",
          "name": "stdout",
          "text": [
            "Enter a person's name or STOP to finish: Roman\n",
            "Enter a person's height in metres: 1.83\n",
            "Enter a person's name or STOP to finish: Joseph\n",
            "Enter a person's height in metres: 1.96\n",
            "Enter a person's name or STOP to finish: Lucy\n",
            "Enter a person's height in metres: 1.57\n",
            "Enter a person's name or STOP to finish: Hailey\n",
            "Enter a person's height in metres: 1.75\n",
            "Enter a person's name or STOP to finish: Ben\n",
            "Enter a person's height in metres: 1.45\n",
            "Enter a person's name or STOP to finish: Lindsey\n",
            "Enter a person's height in metres: 1.78\n",
            "Enter a person's name or STOP to finish: Micheal\n",
            "Enter a person's height in metres: 1.83\n",
            "Enter a person's name or STOP to finish: Janet\n",
            "Enter a person's height in metres: 1.65\n",
            "Enter a person's name or STOP to finish: STOP\n",
            "List of names in order of shortest to tallest:\n",
            "Ben\n",
            "Lucy\n",
            "Janet\n",
            "Hailey\n",
            "Lindsey\n",
            "Roman\n",
            "Micheal\n",
            "Joseph\n",
            "Tallest person: Joseph\n",
            "Shortest person: Ben\n",
            "Average height: 1.7275\n",
            "Person closest to the average height: Hailey\n"
          ]
        }
      ]
    }
  ]
}