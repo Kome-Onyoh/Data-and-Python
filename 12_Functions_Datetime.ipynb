{
  "nbformat": 4,
  "nbformat_minor": 0,
  "metadata": {
    "colab": {
      "provenance": [],
      "include_colab_link": true
    },
    "kernelspec": {
      "name": "python3",
      "display_name": "Python 3"
    },
    "language_info": {
      "name": "python"
    }
  },
  "cells": [
    {
      "cell_type": "markdown",
      "metadata": {
        "id": "view-in-github",
        "colab_type": "text"
      },
      "source": [
        "<a href=\"https://colab.research.google.com/github/Kome-Onyoh/Data-and-Python/blob/main/12_Functions_Datetime.ipynb\" target=\"_parent\"><img src=\"https://colab.research.google.com/assets/colab-badge.svg\" alt=\"Open In Colab\"/></a>"
      ]
    },
    {
      "cell_type": "markdown",
      "metadata": {
        "id": "7iQyKP-SQiw1"
      },
      "source": [
        "# User-defined functions using datetime library\n",
        "\n",
        "---\n"
      ]
    },
    {
      "cell_type": "markdown",
      "metadata": {
        "id": "Vi93h5I4QnKs"
      },
      "source": [
        "When working with dates and times, fairly common in data sets, we need to be able to extract certain bits of information.  \n",
        "\n",
        "In Python, as with other languages, dates and times are stored in a data structure that combines the two together and stores the information as a number of seconds since a start point (often 1st January 1900).  This is obviously a large number but every bit of information about a date can be extracted from it and used to give a wide range of information.  \n",
        "\n",
        "Have a go at the exercises below to use a selection of datetime functions and return a new bit of data from each, to be printed by the caller.\n",
        "\n",
        "Before you can use datetime functions you will need to import them. Import the datetime functions like this:\n",
        "\n",
        "`from datetime import datetime`  \n",
        "\n",
        "\n",
        "For more information about datetime functions visit [w3Schools-Python datetime](https://www.w3schools.com/python/python_datetime.asp) and [Python docs](https://docs.python.org/3/library/datetime.html)"
      ]
    },
    {
      "cell_type": "markdown",
      "metadata": {
        "id": "MIDLi7CNR034"
      },
      "source": [
        "---\n",
        "### Exercise 1 - print current date and time\n",
        "\n",
        "Write a function that will return the date and time now.  The caller will print it.  \n",
        "\n",
        "*Hint:  the format has been added for you, the other exercises will follow a similar format.   Always remember to import datetime from datetime as shown below*"
      ]
    },
    {
      "cell_type": "code",
      "metadata": {
        "id": "gS6GJdXbQfHp",
        "colab": {
          "base_uri": "https://localhost:8080/"
        },
        "outputId": "b935180c-a9a5-4e37-b48c-161df5fa466e"
      },
      "source": [
        "from datetime import datetime, timezone\n",
        "# add your function, called get_datetime_now() below here\n",
        "def get_datetime_now():\n",
        "  now_date_time = datetime.now()\n",
        "  return now_date_time\n",
        "\n",
        "\n",
        "now_date_time = get_datetime_now()\n",
        "print(now_date_time)"
      ],
      "execution_count": 4,
      "outputs": [
        {
          "output_type": "stream",
          "name": "stdout",
          "text": [
            "2024-02-21 18:44:17.137706\n"
          ]
        }
      ]
    },
    {
      "cell_type": "markdown",
      "metadata": {
        "id": "Yy24sL0bUtpF"
      },
      "source": [
        "---\n",
        "Exercise 2 - print the current year\n",
        "\n",
        "Write a function that will return the current year.  The caller will print the year."
      ]
    },
    {
      "cell_type": "code",
      "metadata": {
        "id": "YqlQqPIqUtyr",
        "colab": {
          "base_uri": "https://localhost:8080/"
        },
        "outputId": "90fe72fa-ab8d-49af-bc7c-04c93677b4fa"
      },
      "source": [
        "from datetime import datetime, timezone\n",
        "\n",
        "def get_datetime_now():\n",
        "  datetime_year = datetime.now()\n",
        "\n",
        "  return datetime_year.year\n",
        "\n",
        "print(get_datetime_now())"
      ],
      "execution_count": 6,
      "outputs": [
        {
          "output_type": "stream",
          "name": "stdout",
          "text": [
            "2024\n"
          ]
        }
      ]
    },
    {
      "cell_type": "markdown",
      "metadata": {
        "id": "FzSVCaJKV1O1"
      },
      "source": [
        "---\n",
        "### Exercise 3 - print the current day of the week\n",
        "\n",
        "Write a function that will return the current day of the week.  The caller will print it."
      ]
    },
    {
      "cell_type": "code",
      "metadata": {
        "id": "OP4ZIXBWV1Yj",
        "colab": {
          "base_uri": "https://localhost:8080/"
        },
        "outputId": "f8c66d8e-a0f9-4412-bbec-22ddd8bc3c42"
      },
      "source": [
        "from datetime import datetime, timezone\n",
        "\n",
        "def get_datetime_now():\n",
        "  datetime_week = datetime.now().strftime(\"%A\")\n",
        "\n",
        "  return datetime_week\n",
        "\n",
        "print(get_datetime_now())"
      ],
      "execution_count": 8,
      "outputs": [
        {
          "output_type": "stream",
          "name": "stdout",
          "text": [
            "Wednesday\n"
          ]
        }
      ]
    },
    {
      "cell_type": "markdown",
      "metadata": {
        "id": "a8euCtdmWIDE"
      },
      "source": [
        "---\n",
        "### Exercise 4 - create a new date\n",
        "\n",
        "Write a function that will take 3 parameters, day, month, year (3 numbers that make a valid date) and will create, and return a new date.  The caller will print the date."
      ]
    },
    {
      "cell_type": "code",
      "metadata": {
        "id": "FbOFnTwnWILN",
        "colab": {
          "base_uri": "https://localhost:8080/"
        },
        "outputId": "fdc57e30-6ea5-4d96-fbde-66209b2ae594"
      },
      "source": [
        "from datetime import datetime\n",
        "\n",
        "def create_date():\n",
        "  new_date = datetime(year, month, day)\n",
        "  return new_date\n",
        "\n",
        "year = 1999\n",
        "month = 5\n",
        "day = 22\n",
        "\n",
        "print(create_date())"
      ],
      "execution_count": 19,
      "outputs": [
        {
          "output_type": "stream",
          "name": "stdout",
          "text": [
            "1999-05-22 00:00:00\n"
          ]
        }
      ]
    },
    {
      "cell_type": "markdown",
      "metadata": {
        "id": "f5SKVuE0WfcE"
      },
      "source": [
        "---\n",
        "### Exercise 5 - create a valid date\n",
        "\n",
        "Write a function that will take 3 parameters, day, month, year (3 numbers) and will:  \n",
        "*   check that the month is between 1 and 12  \n",
        "*   check that the day is valid for the month (e.g. if the month is 2, then the day must be between 1 and 28 (don't worry about leap years for the moment)  \n",
        "*   if the date is not valid, print an error message and return None (which the caller will print)  \n",
        "*   if the date is valid, store it in a new variable, return the variable and the caller will print it."
      ]
    },
    {
      "cell_type": "code",
      "metadata": {
        "id": "gclt-f9-XfdG",
        "colab": {
          "base_uri": "https://localhost:8080/"
        },
        "outputId": "d4e61bbe-4dc4-4a13-c5c7-3f686395b791"
      },
      "source": [
        "def create_valid_date(day, month, year):\n",
        "  if month < 1 or month > 12:\n",
        "    print(\"Invalid Month\")\n",
        "    return None\n",
        "\n",
        "  days_in_month = [31, 28, 31, 30, 31, 30, 31, 31, 30, 31, 30, 31]\n",
        "\n",
        "  if day < 1 or day > days_in_month[month - 1]:\n",
        "    print(\"Invalid day\")\n",
        "    return None\n",
        "\n",
        "  new_date = f\"{day}/{month}/{year}\"\n",
        "  return new_date\n",
        "\n",
        "  day = 31\n",
        "  month = 2\n",
        "  year = 2023\n",
        "\n",
        "print(create_valid_date(day, month, year))"
      ],
      "execution_count": 4,
      "outputs": [
        {
          "output_type": "stream",
          "name": "stdout",
          "text": [
            "Invalid day\n",
            "None\n"
          ]
        }
      ]
    },
    {
      "cell_type": "markdown",
      "metadata": {
        "id": "js7fy2HWXfm2"
      },
      "source": [
        "---\n",
        "### Exercise 6 - is it a leap year?\n",
        "\n",
        "Write a function that will take a date as a parameter (you will need to create the date variable before calling the function) and will determine if it is a leap year, returning True or False.\n",
        "\n",
        "*Hint:  a leap year is a year that is divisible by 4 but the centuries (1900, 2000, etc are only leap years if they are divisible by 400)*"
      ]
    },
    {
      "cell_type": "code",
      "metadata": {
        "id": "KY1jtf3lX_ps"
      },
      "source": [
        "from datetime import datetime\n",
        "def is_leap_year(date_to_check):\n",
        "  # add your code below here\n",
        "\n",
        "\n",
        "\n",
        "\n",
        "check_date = datetime(1996, 12, 15)\n",
        "if is_leap_year(check_date):\n",
        "  print(check_date.strftime(\"%Y\"), \"is a leap year\")\n",
        "else:\n",
        "  print(check_date.strftime(\"%Y\"), \"is not a leap year\")"
      ],
      "execution_count": null,
      "outputs": []
    },
    {
      "cell_type": "markdown",
      "metadata": {
        "id": "9BuRDi08YAO0"
      },
      "source": [
        "---\n",
        "### Exercise 7 - display parts of date/time\n",
        "\n",
        "Write a function that will take a date and print from it the following:  \n",
        "*  given date and time  \n",
        "*  year (in full)\n",
        "*  month (as a number)\n",
        "*  month name\n",
        "*  week number of the year  \n",
        "*  weekday of the week (as a number)  \n",
        "*  day of year  \n",
        "*  day of the month  \n",
        "*  day of week (as a name)  \n",
        "\n",
        "*Hint:  see w3Schools for [strftime reference](https://www.w3schools.com/python/python_datetime.asp)*\n",
        "\n"
      ]
    },
    {
      "cell_type": "code",
      "metadata": {
        "id": "zl-37Ez9ahym",
        "colab": {
          "base_uri": "https://localhost:8080/"
        },
        "outputId": "9bb779e6-0819-46f0-8dee-25d4d98d43d4"
      },
      "source": [
        "from datetime import datetime, timezone\n",
        "\n",
        "def parts_of_date():\n",
        "  date = datetime.now()\n",
        "  print(date)\n",
        "\n",
        "  year = date.year\n",
        "  print(year)\n",
        "\n",
        "  month_number = date.strftime(\"%m\")\n",
        "  print(month_number)\n",
        "\n",
        "  week_number_year = date.strftime(\"%U\")\n",
        "  print(week_number_year)\n",
        "\n",
        "  weekday_of_the_week = date.strftime(\"%w\")\n",
        "  print(weekday_of_the_week)\n",
        "\n",
        "  day_of_year = date.strftime(\"%j\")\n",
        "  print(day_of_year)\n",
        "\n",
        "  day_of_month = date.strftime(\"%d\")\n",
        "  print(day_of_month)\n",
        "\n",
        "  day_of_week = date.strftime(\"%A\")\n",
        "  print(day_of_week)\n",
        "\n",
        "print(parts_of_date())"
      ],
      "execution_count": 7,
      "outputs": [
        {
          "output_type": "stream",
          "name": "stdout",
          "text": [
            "2024-02-26 17:14:34.856609\n",
            "2024\n",
            "02\n",
            "08\n",
            "1\n",
            "057\n",
            "26\n",
            "Monday\n",
            "None\n"
          ]
        }
      ]
    },
    {
      "cell_type": "markdown",
      "metadata": {
        "id": "_rpTIoSDaiBj"
      },
      "source": [
        "---\n",
        "### Exercise 8 - next 6 days\n",
        "\n",
        "Write a function that will take a date and generate the dates of the following 6 days.  It should print each of the 6 days in the form:  \n",
        "\n",
        "DAY OF THE WEEK, MONTH NAME, FULL YEAR\n",
        "\n",
        "Hint:  to generate the days, use the function datetime.timedelta(), there is a good example of its use [here](https://www.geeksforgeeks.org/python-datetime-timedelta-function/)  "
      ]
    },
    {
      "cell_type": "code",
      "metadata": {
        "id": "1d-oXqLLb0vX",
        "colab": {
          "base_uri": "https://localhost:8080/"
        },
        "outputId": "76832044-9bef-42e7-989f-464faa5daded"
      },
      "source": [
        "from datetime import datetime, timezone, timedelta\n",
        "\n",
        "def date_next_six_days():\n",
        "  date = datetime.now()\n",
        "  print(date)\n",
        "\n",
        "  for i in range(1, 7):\n",
        "    next_day = date + timedelta(days=i)\n",
        "    print(next_day.strftime(\"%A, %B %d, %Y\"))\n",
        "\n",
        "print(date_next_six_days())"
      ],
      "execution_count": 8,
      "outputs": [
        {
          "output_type": "stream",
          "name": "stdout",
          "text": [
            "2024-02-26 17:20:51.875867\n",
            "Tuesday, February 27, 2024\n",
            "Wednesday, February 28, 2024\n",
            "Thursday, February 29, 2024\n",
            "Friday, March 01, 2024\n",
            "Saturday, March 02, 2024\n",
            "Sunday, March 03, 2024\n",
            "None\n"
          ]
        }
      ]
    },
    {
      "cell_type": "markdown",
      "metadata": {
        "id": "22Rhwx2Sb1Ey"
      },
      "source": [
        "---\n",
        "### Optional extra practice\n",
        "\n",
        "There are some similar and some more challenging exercises [here](https://www.w3resource.com/python-exercises/date-time-exercise/) if you would like to practice more. The site has its own editor."
      ]
    }
  ]
}