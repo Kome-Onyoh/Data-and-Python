{
  "cells": [
    {
      "cell_type": "markdown",
      "metadata": {
        "id": "view-in-github",
        "colab_type": "text"
      },
      "source": [
        "<a href=\"https://colab.research.google.com/github/Kome-Onyoh/Data-and-Python/blob/main/09_WhileLoops.ipynb\" target=\"_parent\"><img src=\"https://colab.research.google.com/assets/colab-badge.svg\" alt=\"Open In Colab\"/></a>"
      ]
    },
    {
      "cell_type": "markdown",
      "metadata": {
        "id": "OWGIE_ptimyf"
      },
      "source": [
        "# While loops\n",
        "\n",
        "---\n"
      ]
    },
    {
      "cell_type": "markdown",
      "metadata": {
        "id": "Kjh4DVogizl5"
      },
      "source": [
        "There are many situations when an external event (such as an input from the user or finding an invalid data value) will be the thing that will cause the loop to stop.\n",
        "\n",
        "A while loop allows us to say \"repeat these instructions while something has not yet happened, or repeat these instruction while a particular state exists\"\n",
        "\n",
        "For example, we want to ask a user to enter some positive numbers to be added to a total. They will indicate that there are no more numbers by entering -1.\n",
        "\n"
      ]
    },
    {
      "cell_type": "code",
      "execution_count": null,
      "metadata": {
        "id": "HieVx4BrtJlU"
      },
      "outputs": [],
      "source": [
        "# initialise a total to 0\n",
        "# read the first number\n",
        "# add the number to the total and keep reading next number and adding to total until -1 entered\n",
        "\n",
        "def running_total():\n",
        "    total = 0\n",
        "    num = int(input(\"Enter a number, or type -1 to stop\"))\n",
        "    while num != -1:\n",
        "        total = total + num\n",
        "        num = int(input(\"Enter a number, or type -1 to stop\"))\n",
        "    print(total)\n",
        "\n",
        "running_total()"
      ]
    },
    {
      "cell_type": "code",
      "execution_count": null,
      "metadata": {
        "colab": {
          "base_uri": "https://localhost:8080/"
        },
        "id": "uWcPSN-kwOo1",
        "outputId": "bfb1f500-d069-434f-bd8f-e03f4921979f"
      },
      "outputs": [
        {
          "name": "stdout",
          "output_type": "stream",
          "text": [
            "Enter a number, or type -1 to stop: 5\n",
            "Enter a number, or type -1 to stop: 70\n",
            "Enter a number, or type -1 to stop: 25\n",
            "Enter a number, or type -1 to stop: 7\n",
            "Enter a number, or type -1 to stop: 22\n",
            "Enter a number, or type -1 to stop: 18\n",
            "Enter a number, or type -1 to stop: -1\n",
            "147\n"
          ]
        }
      ],
      "source": [
        "def running_total():\n",
        "  total = 0\n",
        "  num = int(input(\"Enter a number, or type -1 to stop: \"))\n",
        "  while num != -1:\n",
        "    total += num\n",
        "    num = int(input(\"Enter a number, or type -1 to stop: \"))\n",
        "  print(total)\n",
        "\n",
        "running_total()"
      ]
    },
    {
      "cell_type": "markdown",
      "metadata": {
        "id": "X8pROiEYtKbA"
      },
      "source": [
        "**Another example**\n",
        "\n",
        "We want to take a number from the user and keep dividing it by 2 until the answer is 1 or less, then to print the number of times it was divided. Try it out. If you enter 8 then the answer should be 3, if you enter 6 the answer will also be 3."
      ]
    },
    {
      "cell_type": "code",
      "execution_count": null,
      "metadata": {
        "id": "eL9nJORbtTUb"
      },
      "outputs": [],
      "source": [
        "def div_by_two():\n",
        "  num = int(input(\"Enter a number to be processed\"))\n",
        "  number_times_divided = 0\n",
        "  while num > 1:\n",
        "    number_times_divided = number_times_divided + 1\n",
        "    num = num/2\n",
        "  print(\"Your number was divided\", number_times_divided, \"times\")\n",
        "\n",
        "div_by_two()"
      ]
    },
    {
      "cell_type": "code",
      "execution_count": null,
      "metadata": {
        "colab": {
          "base_uri": "https://localhost:8080/"
        },
        "id": "4Xe97O1ay_Yr",
        "outputId": "79c8359f-c1e0-4e4d-ebd1-60588242bfb5"
      },
      "outputs": [
        {
          "name": "stdout",
          "output_type": "stream",
          "text": [
            "Enter a number to be processed: 10\n",
            "Your number was divided 4 times\n"
          ]
        }
      ],
      "source": [
        "def div_by_two():\n",
        "  num = int(input(\"Enter a number to be processed: \"))\n",
        "  number_times_divided = 0\n",
        "  while num > 1:\n",
        "    number_times_divided += 1\n",
        "    num /= 2\n",
        "  print(f\"Your number was divided {number_times_divided} times\")\n",
        "\n",
        "div_by_two()"
      ]
    },
    {
      "cell_type": "markdown",
      "metadata": {
        "id": "jKqqk9LstW83"
      },
      "source": [
        "*Here are some more examples of use of while loops.*\n",
        "\n",
        "### Ensuring valid input  \n",
        "When reading from the keyboard it is important to ensure that the user only enters valid data. You can do this in a number of ways but a while loop can be used to make the user keep entering data until they enter something that is valid."
      ]
    },
    {
      "cell_type": "code",
      "execution_count": null,
      "metadata": {
        "colab": {
          "base_uri": "https://localhost:8080/"
        },
        "id": "7_CoIBfluIUG",
        "outputId": "9c12b6a8-8b65-4dff-80a8-8984fae13f8d"
      },
      "outputs": [
        {
          "name": "stdout",
          "output_type": "stream",
          "text": [
            "You must type a number above 0\n",
            "Enter a positive number-5\n",
            "You must type a number above 0\n",
            "Enter a positive number-7\n",
            "You must type a number above 0\n",
            "Enter a positive number-6\n",
            "You must type a number above 0\n",
            "Enter a positive number7\n",
            "Thank you for typing the number 7\n"
          ]
        }
      ],
      "source": [
        "# read a number from the user\n",
        "# check that the number is a positive integer.  If not, display error messages\n",
        "# keep reading until a positive integer is read\n",
        "\n",
        "def positive_num():\n",
        "  number = -1\n",
        "  while number < 0:\n",
        "    print(\"You must type a number above 0\")\n",
        "    number = int(input(\"Enter a positive number\"))\n",
        "  print(\"Thank you for typing the number\", number)\n",
        "\n",
        "positive_num()"
      ]
    },
    {
      "cell_type": "markdown",
      "metadata": {
        "id": "YiO-WgJ8zzjp"
      },
      "source": [
        "### Take home points\n",
        "\n",
        "* An algorithm is the method for solving a particular problem (e.g. getting the right sort of number, selecting a message depending on input, calculating a new figure, etc)\n",
        "* A while loop will keep repeating while the given condition is TRUE\n",
        "* As soon as the condition becomes false the loop will stop executing\n",
        "* We use while loops when we don't necessarily know how many times a loop will need to repeat, but we do know under what conditions it does need to repeat."
      ]
    },
    {
      "cell_type": "markdown",
      "metadata": {
        "id": "4CS8CNrmQUbO"
      },
      "source": [
        "---\n",
        "### Exercise 1 - get a valid username\n",
        "\n",
        "Write a function called **get_username()** which will:  \n",
        "\n",
        "*  assign the value False to a boolean variable called **valid**  \n",
        "*  start a while loop that will continue to loop while `valid` is False  \n",
        "*  in the loop:  ask the user to enter a **username**,  if the `username` is \"user\" assign the value True to `valid`, otherwise print the message \"Incorrect user name\"   \n",
        "*  after the loop, display the message \"Welcome `username`, you will now be asked to enter your password  \n",
        "\n",
        "Test input:  \n",
        "username   \n",
        "user  \n",
        "\n",
        "Expected output:  \n",
        "Incorrect username  \n",
        "Welcome user you will now be asked to enter your password  "
      ]
    },
    {
      "cell_type": "code",
      "execution_count": null,
      "metadata": {
        "colab": {
          "base_uri": "https://localhost:8080/"
        },
        "id": "nwq55T5eRv7_",
        "outputId": "4ba66680-36f7-41aa-ae8d-9a6222586e34"
      },
      "outputs": [
        {
          "name": "stdout",
          "output_type": "stream",
          "text": [
            "Enter a username: Username\n",
            "Incorrect username\n",
            "Enter a username: User\n",
            "Welcome User, you will now be asked to enter your password.\n"
          ]
        }
      ],
      "source": [
        "def get_username():\n",
        "  valid = False\n",
        "  while not valid:\n",
        "    username = input(\"Enter a username: \")\n",
        "    if username == \"User\":\n",
        "      valid = True\n",
        "    else:\n",
        "      print(\"Incorrect username\")\n",
        "  print(f\"Welcome {username}, you will now be asked to enter your password.\")\n",
        "\n",
        "get_username()"
      ]
    },
    {
      "cell_type": "markdown",
      "metadata": {
        "id": "FXN6-MtQRwb9"
      },
      "source": [
        "---\n",
        "### Exercise 2 - get a valid passcode  \n",
        "\n",
        "Write a function called **get_passcode()** which will:  \n",
        "\n",
        "*  assign the value False to a boolean variable called **valid**  \n",
        "*  start a while loop that will continue to loop while `valid` is False  \n",
        "*  in the loop:  ask the user to enter a **passcode**, if the `passcode` is \"9876\" assign the value True to `valid`, otherwise print the message \"Incorrect passcode\"  \n",
        "*  after the loop, display the message \"Passcode accepted\"    \n",
        "\n",
        "Test input:  \n",
        "1234   \n",
        "9876  \n",
        "\n",
        "Expected output:  \n",
        "Incorrect passcode  \n",
        "Passcode accepted  "
      ]
    },
    {
      "cell_type": "code",
      "execution_count": null,
      "metadata": {
        "colab": {
          "base_uri": "https://localhost:8080/"
        },
        "id": "a0Z_ACOiSxsP",
        "outputId": "dd2b41e7-445d-4ef9-e79a-a01aed3f619e"
      },
      "outputs": [
        {
          "name": "stdout",
          "output_type": "stream",
          "text": [
            "Enter a passcode: 1234\n",
            "Incorrect passcode\n",
            "Enter a passcode: 8876\n",
            "Incorrect passcode\n",
            "Enter a passcode: 9876\n",
            "Passcode accepted\n"
          ]
        }
      ],
      "source": [
        "def get_passcode():\n",
        "  valid = False\n",
        "  while not valid:\n",
        "    passcode = input(\"Enter a passcode: \")\n",
        "    if passcode == \"9876\":\n",
        "      valid = True\n",
        "    else:\n",
        "      print(\"Incorrect passcode\")\n",
        "  print(\"Passcode accepted\")\n",
        "\n",
        "get_passcode()"
      ]
    },
    {
      "cell_type": "markdown",
      "metadata": {
        "id": "DMeDXd7TS0ar"
      },
      "source": [
        "---\n",
        "### Exercise 3 - single digit input  \n",
        "\n",
        "Write a function called **get_digit()** which will:  \n",
        "\n",
        "*  assign the value False to a boolean variable called **valid_digit**  \n",
        "*  use a while loop to repeatedly ask the user to enter a single digit until the value they enter is less than 10     \n",
        "*  in the loop:  ask the user to enter a **single_digit**, if the `single_digit` is less than 10 assign the value True to `valid`, otherwise print the message \"Not a digit\"  \n",
        "*  after the loop, display the message \"Single digit entered\"    \n",
        "\n",
        "Test input:  \n",
        "10   \n",
        "9  \n",
        "\n",
        "Expected output:  \n",
        "Not a digit  \n",
        "Single digit entered  "
      ]
    },
    {
      "cell_type": "code",
      "execution_count": null,
      "metadata": {
        "colab": {
          "base_uri": "https://localhost:8080/"
        },
        "id": "4oGXPcmqTtVN",
        "outputId": "d19abbf7-be96-4d7e-fcc1-45440361a211"
      },
      "outputs": [
        {
          "name": "stdout",
          "output_type": "stream",
          "text": [
            "Enter a single digit: 10\n",
            "Not a digit\n",
            "Enter a single digit: 9\n",
            "Single digit entered\n"
          ]
        }
      ],
      "source": [
        "def get_digit():\n",
        "  valid_digit = False\n",
        "  while not valid_digit:\n",
        "    single_digit = int(input(\"Enter a single digit: \"))\n",
        "    if single_digit < 10:\n",
        "      valid_digit = True\n",
        "    else:\n",
        "      print(\"Not a digit\")\n",
        "\n",
        "  print(\"Single digit entered\")\n",
        "\n",
        "get_digit()"
      ]
    },
    {
      "cell_type": "markdown",
      "metadata": {
        "id": "o80s4nzfi37X"
      },
      "source": [
        "---\n",
        "### Exercise 4 - positive number input\n",
        "\n",
        "Write a function called **positive_number()** which will:\n",
        "*  ask the user to enter a **number**, the message should indicate that it must be a positive number  \n",
        "*  if `number` is not positive **(ie. less than 1)** show an error message and ask user to re-enter the `number`\n",
        "*  when the `number` is positive, print the `number`\n",
        "\n",
        "Test input:  \n",
        "-1\n",
        "0\n",
        "1\n",
        "\n",
        "Expected output:  \n",
        "It must be a positive number, try again  \n",
        "It must be a positive number, try again  \n",
        "1  "
      ]
    },
    {
      "cell_type": "code",
      "execution_count": null,
      "metadata": {
        "colab": {
          "base_uri": "https://localhost:8080/"
        },
        "id": "BmZjI8PzwdT-",
        "outputId": "267213bc-03e1-4113-afaf-6e97f339e5e2"
      },
      "outputs": [
        {
          "name": "stdout",
          "output_type": "stream",
          "text": [
            "Enter a positive number: -1\n",
            "It must be a positive number, try again: \n",
            "Enter a positive number: 0\n",
            "It must be a positive number, try again: \n",
            "Enter a positive number: 1\n",
            "1\n"
          ]
        }
      ],
      "source": [
        "def positive_number():\n",
        "  number = int(input(\"Enter a positive number: \"))\n",
        "  while number < 1:\n",
        "    print(\"It must be a positive number, try again: \")\n",
        "    number = int(input(\"Enter a positive number: \"))\n",
        "\n",
        "  print(number)\n",
        "\n",
        "positive_number()"
      ]
    },
    {
      "cell_type": "markdown",
      "metadata": {
        "id": "xPJfd9lUyULa"
      },
      "source": [
        "---\n",
        "### Exercise 5 - getting a number within limits\n",
        "\n",
        "Write a function called **test_limits()** which will:\n",
        "\n",
        "*  ask the user to enter a number between **1 and 31**\n",
        "*  if the number entered is less than 1 or more than 31, display the error message \"Number out of limits\"  \n",
        "*  continue asking the user until a valid input is given\n",
        "*  when a valid number is given, display the message \"Your number was `number`\" and end the program\n",
        "\n",
        "Test input:  \n",
        "40  \n",
        "50  \n",
        "30  \n",
        "\n",
        "Expected output:  \n",
        "Number out of limits  \n",
        "Number out of limits  \n",
        "Your number was 30  \n"
      ]
    },
    {
      "cell_type": "code",
      "execution_count": null,
      "metadata": {
        "colab": {
          "base_uri": "https://localhost:8080/"
        },
        "id": "MVxhTY6zzq8k",
        "outputId": "12570c05-acaa-434c-8670-5f90148eb169"
      },
      "outputs": [
        {
          "name": "stdout",
          "output_type": "stream",
          "text": [
            "Enter a number between 1 and 31: 40\n",
            "Number out of limits\n",
            "Enter a number between 1 and 31: 50\n",
            "Number out of limits\n",
            "Enter a number between 1 and 31: 30\n",
            "Your number was 30\n"
          ]
        }
      ],
      "source": [
        "def test_limits():\n",
        "  number = int(input(\"Enter a number between 1 and 31: \"))\n",
        "  while number < 1 or number > 31:\n",
        "    print(\"Number out of limits\")\n",
        "    number = int(input(\"Enter a number between 1 and 31: \"))\n",
        "\n",
        "  print(f\"Your number was {number}\")\n",
        "\n",
        "test_limits()"
      ]
    },
    {
      "cell_type": "markdown",
      "metadata": {
        "id": "WcHiG9AlUPdr"
      },
      "source": [
        "---\n",
        "### Exercise 6 - getting a number outside range\n",
        "\n",
        "Write a function called **test_outlier()** which will:\n",
        "\n",
        "*  ask the user to enter a **number** that is NOT between 40 and 50  \n",
        "*  if the `number` entered is between 40 and 50 (including both 40 and 50, display the error message \"This is not an outlier\"\n",
        "*  continue asking the user until a valid `number` is given\n",
        "*  when a valid `number` is given, display the message \"You have entered an outlier\" and end the program  \n",
        "\n",
        "Test input:  \n",
        "34  \n",
        "\n",
        "Expected output:  \n",
        "You have entered an outlier  \n",
        "\n",
        "Test input:  \n",
        "44  \n",
        "50  \n",
        "40  \n",
        "34  \n",
        "\n",
        "Expected output:  \n",
        "This is not an outlier  \n",
        "This is not an outlier  \n",
        "This is not an outlier  \n",
        "You have entered an outlier  "
      ]
    },
    {
      "cell_type": "code",
      "execution_count": null,
      "metadata": {
        "colab": {
          "base_uri": "https://localhost:8080/"
        },
        "id": "PqvtQXYnUQ8E",
        "outputId": "acc18c36-6509-44b0-df45-312e98d5fef0"
      },
      "outputs": [
        {
          "name": "stdout",
          "output_type": "stream",
          "text": [
            "Enter a number that is NOT between 40 and 50 inclusive: 44\n",
            "This is not an outlier\n",
            "Enter a number that is NOT between 40 and 50 inclusive: 50\n",
            "This is not an outlier\n",
            "Enter a number that is NOT between 40 and 50 inclusive: 40\n",
            "This is not an outlier\n",
            "Enter a number that is NOT between 40 and 50 inclusive: 34\n",
            "You have entered an outlier\n"
          ]
        }
      ],
      "source": [
        "def test_outlier():\n",
        "  number = int(input(\"Enter a number that is NOT between 40 and 50 inclusive: \"))\n",
        "  while 40 <= number <= 50:\n",
        "    print(\"This is not an outlier\")\n",
        "    number = int(input(\"Enter a number that is NOT between 40 and 50 inclusive: \"))\n",
        "\n",
        "  print(\"You have entered an outlier\")\n",
        "\n",
        "test_outlier()"
      ]
    },
    {
      "cell_type": "markdown",
      "metadata": {
        "id": "53kjOj7nzri1"
      },
      "source": [
        "---\n",
        "### Exercise 7 - multiplying a number to be greater than 20,000\n",
        "\n",
        "Write a function called **increase_to_twenty_thousand()** that will:\n",
        "\n",
        "*  ask the user to input a **number**\n",
        "*  multiply given `number` by itself repeatedly, printing its value each time it changes, until the  number has become greater (>) than 20,000\n",
        "\n",
        "Test input:  \n",
        "5\n",
        "\n",
        "Expected output:  \n",
        "5   \n",
        "25  \n",
        "125  \n",
        "625  \n",
        "3125  \n",
        "15625  \n",
        "78125  \n"
      ]
    },
    {
      "cell_type": "code",
      "execution_count": null,
      "metadata": {
        "colab": {
          "base_uri": "https://localhost:8080/"
        },
        "id": "9vzat0W21tNA",
        "outputId": "dbb53d82-a837-4576-ecd9-b6c92a95d8e4"
      },
      "outputs": [
        {
          "name": "stdout",
          "output_type": "stream",
          "text": [
            "Enter a number: 5\n",
            "5\n",
            "25\n",
            "625\n"
          ]
        }
      ],
      "source": [
        "def increase_to_twenty_thousand():\n",
        "  number = int(input(\"Enter a number: \"))\n",
        "  while number <= 20000:\n",
        "    print(number)\n",
        "    number *= number\n",
        "\n",
        "increase_to_twenty_thousand()"
      ]
    },
    {
      "cell_type": "markdown",
      "metadata": {
        "id": "wepL2Ufj1uvT"
      },
      "source": [
        "---\n",
        "### Exercise 8 - even and odds\n",
        "\n",
        "Write a function called **get_even_number()** that:\n",
        "\n",
        "*  asks the user to input an even number (divisible by 2)\n",
        "*  if an odd number is given, display message \"That number is odd\"\n",
        "*  once valid input given (even number), display message \"Thanks, that number is even\"\n",
        "\n",
        "Test input:  \n",
        "3  \n",
        "1  \n",
        "2  \n",
        "\n",
        "Expected output:  \n",
        "That number is odd  \n",
        "That number is odd  \n",
        "Thanks, that number is even  \n",
        "\n"
      ]
    },
    {
      "cell_type": "code",
      "execution_count": null,
      "metadata": {
        "colab": {
          "base_uri": "https://localhost:8080/"
        },
        "id": "KME9Qfcs45yJ",
        "outputId": "1112ebeb-efaf-45be-b105-6b9f2be76dfc"
      },
      "outputs": [
        {
          "name": "stdout",
          "output_type": "stream",
          "text": [
            "Enter a number divisible by 2: 3\n",
            "That number is odd.\n",
            "Enter a number divisible by 2: 1\n",
            "That number is odd.\n",
            "Enter a number divisible by 2: 2\n",
            "Thanks, that number is even.\n"
          ]
        }
      ],
      "source": [
        "def get_even_number():\n",
        "  number = int(input(\"Enter a number divisible by 2: \"))\n",
        "  while number % 2 != 0:\n",
        "    print(\"That number is odd.\")\n",
        "    number = int(input(\"Enter a number divisible by 2: \"))\n",
        "\n",
        "  print(\"Thanks, that number is even.\")\n",
        "\n",
        "get_even_number()"
      ]
    },
    {
      "cell_type": "markdown",
      "metadata": {
        "id": "-p3LVygZwd6R"
      },
      "source": [
        "### Exercise 9 - menu choice\n",
        "\n",
        "Write a function called **show_special_numbers()** which will:\n",
        "\n",
        "*  display the following menu\n",
        "\n",
        "*What value would you like to see?*\n",
        "\n",
        "1. *Pi*\n",
        "2. *Plank’s constant*\n",
        "3. *E*\n",
        "4. *Square root of 2*\n",
        "5. *Quit the program*\n",
        "\n",
        "*  ask the user to input which value they would like to see by typing a number between 1 - 5\n",
        "*  read and process the choice while the user selects anything other than 5 (Quit the program)\n",
        "\n",
        "To process the choice:  \n",
        "* if the number is 1 - print 3.14159265359\n",
        "* if the number is 2 - print 6.62607004 × 10-34 (in Python this would be written 6.62607004E-34\n",
        "* if the number is 3 - print 2.71828\n",
        "* if the number is 4 - print 1.414\n",
        "* if the number is 5 - print the message (\"Thank you for using this program\")\n",
        "* if the number is anything else - print \"Invalid choice\"\n",
        "\n",
        "The program will print the message associated with the menu choice and will then display the menu again and ask the user to select a choice.  \n",
        "\n",
        "When the user enters 5, the program should stop repeating.\n",
        "\n",
        "Test input:    \n",
        "1  \n",
        "4  \n",
        "6  \n",
        "5  \n",
        "\n",
        "Expected output:    \n",
        "3.14159265359  \n",
        "1.414  \n",
        "Invalid choice  \n",
        "Thank you for using this program  "
      ]
    },
    {
      "cell_type": "code",
      "execution_count": null,
      "metadata": {
        "colab": {
          "base_uri": "https://localhost:8080/"
        },
        "id": "EZdR70D-yP_Y",
        "outputId": "44d12c7e-99a6-458e-e7c2-80a05c5f7811"
      },
      "outputs": [
        {
          "name": "stdout",
          "output_type": "stream",
          "text": [
            "\n",
            "What value would you like to see?\n",
            "1. Pi\n",
            "2. Plank’s constant\n",
            "3. E\n",
            "4. Square root of 2\n",
            "5. Quit the program\n",
            "  \n",
            "Choose a number from 1 - 5 that you would like to see: 1\n",
            "3.14159265359\n",
            "\n",
            "What value would you like to see?\n",
            "1. Pi\n",
            "2. Plank’s constant\n",
            "3. E\n",
            "4. Square root of 2\n",
            "5. Quit the program\n",
            "  \n",
            "Choose a number from 1 - 5 that you would like to see: 4\n",
            "1.414\n",
            "\n",
            "What value would you like to see?\n",
            "1. Pi\n",
            "2. Plank’s constant\n",
            "3. E\n",
            "4. Square root of 2\n",
            "5. Quit the program\n",
            "  \n",
            "Choose a number from 1 - 5 that you would like to see: 6\n",
            "Invalid choice\n",
            "\n",
            "What value would you like to see?\n",
            "1. Pi\n",
            "2. Plank’s constant\n",
            "3. E\n",
            "4. Square root of 2\n",
            "5. Quit the program\n",
            "  \n",
            "Choose a number from 1 - 5 that you would like to see: 5\n",
            "Thank you for using this program.\n"
          ]
        }
      ],
      "source": [
        "def show_special_numbers():\n",
        "  while True:\n",
        "    print(\"\"\"\n",
        "What value would you like to see?\n",
        "1. Pi\n",
        "2. Plank’s constant\n",
        "3. E\n",
        "4. Square root of 2\n",
        "5. Quit the program\n",
        "  \"\"\")\n",
        "\n",
        "    number = int(input(\"Choose a number from 1 - 5 that you would like to see: \"))\n",
        "\n",
        "    if number == 1:\n",
        "      print(3.14159265359)\n",
        "    elif number == 2:\n",
        "      print(6.62607004E-34)\n",
        "    elif number == 3:\n",
        "      print(2.71828)\n",
        "    elif number == 4:\n",
        "      print(1.414)\n",
        "    elif number == 5:\n",
        "      print(\"Thank you for using this program.\")\n",
        "\n",
        "+      break\n",
        "\n",
        "    else:\n",
        "      print(\"Invalid choice\")\n",
        "\n",
        "show_special_numbers()"
      ]
    },
    {
      "cell_type": "markdown",
      "metadata": {
        "id": "Ig_WrlmPWG4v"
      },
      "source": [
        "---\n",
        "### Exercise 10 - Guess the number  \n",
        "\n",
        "Write a function called **guess_number(number)** which will:  \n",
        "\n",
        "Ask the user to guess the number within 6 attempts.  \n",
        "\n",
        "The function will be given a random number (called `number`) and should use a while loop that will continue while the user has not guessed correctly and has had less than 6 attempts (don't forget to set the number of attempts to 0 before the loop and increment it every time a guess is made).  \n",
        "\n",
        "In the loop:  \n",
        "\n",
        "*  ask the user to enter a **guess**  \n",
        "*  if the `guess` is greater than the `number` print \"Too high\", if less than the number print \"Too low\" or if correct print \"You guessed it\"  \n",
        "*  count the `attempt`  \n",
        "\n",
        "After the loop if the maximum attempts has been reached, print \"Too many attempts\"\n",
        "\n",
        "\n"
      ]
    },
    {
      "cell_type": "code",
      "execution_count": 1,
      "metadata": {
        "colab": {
          "base_uri": "https://localhost:8080/"
        },
        "id": "7qagArrHWHGV",
        "outputId": "e698904d-3955-4652-cf9d-8352c5c7a67d"
      },
      "outputs": [
        {
          "output_type": "stream",
          "name": "stdout",
          "text": [
            "Enter your guess: 10\n",
            "Too low\n",
            "Enter your guess: 45\n",
            "Too high\n",
            "Enter your guess: 32\n",
            "Too low\n",
            "Enter your guess: 50\n",
            "Too high\n",
            "Enter your guess: 44\n",
            "Too high\n",
            "Enter your guess: 2\n",
            "Too low\n",
            "Too many attempts\n"
          ]
        }
      ],
      "source": [
        "from random import randint\n",
        "\n",
        "def guess_number(number):\n",
        "  # add your code below here, remembering to indent\n",
        "  attempts = 0\n",
        "  while attempts < 6:\n",
        "    guess = int(input(\"Enter your guess: \"))\n",
        "    attempts += 1\n",
        "    if guess > number:\n",
        "      print(\"Too high\")\n",
        "    elif guess < number:\n",
        "      print(\"Too low\")\n",
        "    else:\n",
        "      print(\"You guessed it5\")\n",
        "\n",
        "  print(\"Too many attempts\")\n",
        "\n",
        "guess_number(randint(1,50))"
      ]
    }
  ],
  "metadata": {
    "colab": {
      "provenance": [],
      "include_colab_link": true
    },
    "kernelspec": {
      "display_name": "Python 3",
      "name": "python3"
    }
  },
  "nbformat": 4,
  "nbformat_minor": 0
}